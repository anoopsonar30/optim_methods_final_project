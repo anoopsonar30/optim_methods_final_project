{
 "cells": [
  {
   "cell_type": "code",
   "execution_count": 71,
   "id": "76e15520",
   "metadata": {},
   "outputs": [],
   "source": [
    "using CSV, DataFrames, JuMP, Gurobi, Formatting, Plots, NPZ"
   ]
  },
  {
   "cell_type": "markdown",
   "id": "f280639e",
   "metadata": {},
   "source": [
    "# Loading Data"
   ]
  },
  {
   "cell_type": "code",
   "execution_count": 72,
   "id": "744d8235",
   "metadata": {},
   "outputs": [],
   "source": [
    "time_s2d_df = CSV.read(\"csv/time_srcs_to_dests.csv\", DataFrame, header=false);\n",
    "length_s2d_df = CSV.read(\"csv/length_srcs_to_dests.csv\", DataFrame, header=false);\n",
    "\n",
    "time_d2d_df = CSV.read(\"csv/time_dests_to_dests.csv\", DataFrame, header=false);\n",
    "length_d2d_df = CSV.read(\"csv/length_dests_to_dests.csv\", DataFrame, header=false);"
   ]
  },
  {
   "cell_type": "code",
   "execution_count": 73,
   "id": "bc953876",
   "metadata": {},
   "outputs": [
    {
     "data": {
      "text/html": [
       "<div><div style = \"float: left;\"><span>2×9 DataFrame</span></div><div style = \"clear: both;\"></div></div><div class = \"data-frame\" style = \"overflow-x: scroll;\"><table class = \"data-frame\" style = \"margin-bottom: 6px;\"><thead><tr class = \"header\"><th class = \"rowNumber\" style = \"font-weight: bold; text-align: right;\">Row</th><th style = \"text-align: left;\">Column1</th><th style = \"text-align: left;\">Column2</th><th style = \"text-align: left;\">Column3</th><th style = \"text-align: left;\">Column4</th><th style = \"text-align: left;\">Column5</th><th style = \"text-align: left;\">Column6</th><th style = \"text-align: left;\">Column7</th><th style = \"text-align: left;\">Column8</th><th style = \"text-align: left;\">Column9</th></tr><tr class = \"subheader headerLastRow\"><th class = \"rowNumber\" style = \"font-weight: bold; text-align: right;\"></th><th title = \"Float64\" style = \"text-align: left;\">Float64</th><th title = \"Float64\" style = \"text-align: left;\">Float64</th><th title = \"Float64\" style = \"text-align: left;\">Float64</th><th title = \"Float64\" style = \"text-align: left;\">Float64</th><th title = \"Float64\" style = \"text-align: left;\">Float64</th><th title = \"Float64\" style = \"text-align: left;\">Float64</th><th title = \"Float64\" style = \"text-align: left;\">Float64</th><th title = \"Float64\" style = \"text-align: left;\">Float64</th><th title = \"Float64\" style = \"text-align: left;\">Float64</th></tr></thead><tbody><tr><td class = \"rowNumber\" style = \"font-weight: bold; text-align: right;\">1</td><td style = \"text-align: right;\">0.0</td><td style = \"text-align: right;\">50.1583</td><td style = \"text-align: right;\">33.3067</td><td style = \"text-align: right;\">25.5429</td><td style = \"text-align: right;\">27.6542</td><td style = \"text-align: right;\">22.7042</td><td style = \"text-align: right;\">28.0369</td><td style = \"text-align: right;\">22.2431</td><td style = \"text-align: right;\">22.1509</td></tr><tr><td class = \"rowNumber\" style = \"font-weight: bold; text-align: right;\">2</td><td style = \"text-align: right;\">50.1583</td><td style = \"text-align: right;\">0.0</td><td style = \"text-align: right;\">20.9763</td><td style = \"text-align: right;\">43.2164</td><td style = \"text-align: right;\">41.9561</td><td style = \"text-align: right;\">37.0061</td><td style = \"text-align: right;\">26.3583</td><td style = \"text-align: right;\">40.6364</td><td style = \"text-align: right;\">40.262</td></tr></tbody></table></div>"
      ],
      "text/latex": [
       "\\begin{tabular}{r|ccccccccc}\n",
       "\t& Column1 & Column2 & Column3 & Column4 & Column5 & Column6 & Column7 & Column8 & Column9\\\\\n",
       "\t\\hline\n",
       "\t& Float64 & Float64 & Float64 & Float64 & Float64 & Float64 & Float64 & Float64 & Float64\\\\\n",
       "\t\\hline\n",
       "\t1 & 0.0 & 50.1583 & 33.3067 & 25.5429 & 27.6542 & 22.7042 & 28.0369 & 22.2431 & 22.1509 \\\\\n",
       "\t2 & 50.1583 & 0.0 & 20.9763 & 43.2164 & 41.9561 & 37.0061 & 26.3583 & 40.6364 & 40.262 \\\\\n",
       "\\end{tabular}\n"
      ],
      "text/plain": [
       "\u001b[1m2×9 DataFrame\u001b[0m\n",
       "\u001b[1m Row \u001b[0m│\u001b[1m Column1 \u001b[0m\u001b[1m Column2 \u001b[0m\u001b[1m Column3 \u001b[0m\u001b[1m Column4 \u001b[0m\u001b[1m Column5 \u001b[0m\u001b[1m Column6 \u001b[0m\u001b[1m Column7 \u001b[0m\u001b[1m Column8 \u001b[0m\u001b[1m\u001b[0m ⋯\n",
       "     │\u001b[90m Float64 \u001b[0m\u001b[90m Float64 \u001b[0m\u001b[90m Float64 \u001b[0m\u001b[90m Float64 \u001b[0m\u001b[90m Float64 \u001b[0m\u001b[90m Float64 \u001b[0m\u001b[90m Float64 \u001b[0m\u001b[90m Float64 \u001b[0m\u001b[90m\u001b[0m ⋯\n",
       "─────┼──────────────────────────────────────────────────────────────────────────\n",
       "   1 │  0.0     50.1583  33.3067  25.5429  27.6542  22.7042  28.0369  22.2431  ⋯\n",
       "   2 │ 50.1583   0.0     20.9763  43.2164  41.9561  37.0061  26.3583  40.6364\n",
       "\u001b[36m                                                                1 column omitted\u001b[0m"
      ]
     },
     "metadata": {},
     "output_type": "display_data"
    }
   ],
   "source": [
    "first(time_d2d_df, 2)"
   ]
  },
  {
   "cell_type": "code",
   "execution_count": 74,
   "id": "d53d7121",
   "metadata": {},
   "outputs": [
    {
     "data": {
      "text/html": [
       "<div><div style = \"float: left;\"><span>2×9 DataFrame</span></div><div style = \"clear: both;\"></div></div><div class = \"data-frame\" style = \"overflow-x: scroll;\"><table class = \"data-frame\" style = \"margin-bottom: 6px;\"><thead><tr class = \"header\"><th class = \"rowNumber\" style = \"font-weight: bold; text-align: right;\">Row</th><th style = \"text-align: left;\">Column1</th><th style = \"text-align: left;\">Column2</th><th style = \"text-align: left;\">Column3</th><th style = \"text-align: left;\">Column4</th><th style = \"text-align: left;\">Column5</th><th style = \"text-align: left;\">Column6</th><th style = \"text-align: left;\">Column7</th><th style = \"text-align: left;\">Column8</th><th style = \"text-align: left;\">Column9</th></tr><tr class = \"subheader headerLastRow\"><th class = \"rowNumber\" style = \"font-weight: bold; text-align: right;\"></th><th title = \"Float64\" style = \"text-align: left;\">Float64</th><th title = \"Float64\" style = \"text-align: left;\">Float64</th><th title = \"Float64\" style = \"text-align: left;\">Float64</th><th title = \"Float64\" style = \"text-align: left;\">Float64</th><th title = \"Float64\" style = \"text-align: left;\">Float64</th><th title = \"Float64\" style = \"text-align: left;\">Float64</th><th title = \"Float64\" style = \"text-align: left;\">Float64</th><th title = \"Float64\" style = \"text-align: left;\">Float64</th><th title = \"Float64\" style = \"text-align: left;\">Float64</th></tr></thead><tbody><tr><td class = \"rowNumber\" style = \"font-weight: bold; text-align: right;\">1</td><td style = \"text-align: right;\">0.0</td><td style = \"text-align: right;\">5.36814</td><td style = \"text-align: right;\">3.37471</td><td style = \"text-align: right;\">2.9547</td><td style = \"text-align: right;\">2.86724</td><td style = \"text-align: right;\">2.34539</td><td style = \"text-align: right;\">2.84076</td><td style = \"text-align: right;\">2.55595</td><td style = \"text-align: right;\">2.59004</td></tr><tr><td class = \"rowNumber\" style = \"font-weight: bold; text-align: right;\">2</td><td style = \"text-align: right;\">5.36814</td><td style = \"text-align: right;\">0.0</td><td style = \"text-align: right;\">2.32505</td><td style = \"text-align: right;\">4.58539</td><td style = \"text-align: right;\">4.39593</td><td style = \"text-align: right;\">3.89126</td><td style = \"text-align: right;\">2.74863</td><td style = \"text-align: right;\">4.30058</td><td style = \"text-align: right;\">4.2832</td></tr></tbody></table></div>"
      ],
      "text/latex": [
       "\\begin{tabular}{r|ccccccccc}\n",
       "\t& Column1 & Column2 & Column3 & Column4 & Column5 & Column6 & Column7 & Column8 & Column9\\\\\n",
       "\t\\hline\n",
       "\t& Float64 & Float64 & Float64 & Float64 & Float64 & Float64 & Float64 & Float64 & Float64\\\\\n",
       "\t\\hline\n",
       "\t1 & 0.0 & 5.36814 & 3.37471 & 2.9547 & 2.86724 & 2.34539 & 2.84076 & 2.55595 & 2.59004 \\\\\n",
       "\t2 & 5.36814 & 0.0 & 2.32505 & 4.58539 & 4.39593 & 3.89126 & 2.74863 & 4.30058 & 4.2832 \\\\\n",
       "\\end{tabular}\n"
      ],
      "text/plain": [
       "\u001b[1m2×9 DataFrame\u001b[0m\n",
       "\u001b[1m Row \u001b[0m│\u001b[1m Column1 \u001b[0m\u001b[1m Column2 \u001b[0m\u001b[1m Column3 \u001b[0m\u001b[1m Column4 \u001b[0m\u001b[1m Column5 \u001b[0m\u001b[1m Column6 \u001b[0m\u001b[1m Column7 \u001b[0m\u001b[1m Column8 \u001b[0m\u001b[1m\u001b[0m ⋯\n",
       "     │\u001b[90m Float64 \u001b[0m\u001b[90m Float64 \u001b[0m\u001b[90m Float64 \u001b[0m\u001b[90m Float64 \u001b[0m\u001b[90m Float64 \u001b[0m\u001b[90m Float64 \u001b[0m\u001b[90m Float64 \u001b[0m\u001b[90m Float64 \u001b[0m\u001b[90m\u001b[0m ⋯\n",
       "─────┼──────────────────────────────────────────────────────────────────────────\n",
       "   1 │ 0.0      5.36814  3.37471  2.9547   2.86724  2.34539  2.84076  2.55595  ⋯\n",
       "   2 │ 5.36814  0.0      2.32505  4.58539  4.39593  3.89126  2.74863  4.30058\n",
       "\u001b[36m                                                                1 column omitted\u001b[0m"
      ]
     },
     "metadata": {},
     "output_type": "display_data"
    }
   ],
   "source": [
    "first(length_d2d_df, 2)"
   ]
  },
  {
   "cell_type": "code",
   "execution_count": 75,
   "id": "bb1586b3",
   "metadata": {},
   "outputs": [
    {
     "name": "stdout",
     "output_type": "stream",
     "text": [
      "all_src: 1:3, all_dst: 1:9\n"
     ]
    }
   ],
   "source": [
    "n_src = nrow(time_s2d_df);\n",
    "n_dst = ncol(time_s2d_df);\n",
    "\n",
    "all_src = 1:n_src;\n",
    "all_dst = 1:n_dst;\n",
    "\n",
    "println(\"all_src: $all_src, all_dst: $all_dst\")"
   ]
  },
  {
   "cell_type": "code",
   "execution_count": 76,
   "id": "5ba4951d",
   "metadata": {},
   "outputs": [
    {
     "name": "stdout",
     "output_type": "stream",
     "text": [
      "T_s2d: (3, 9), L_s2d: (3, 9), T_d2d: (9, 9), L_d2d: (9, 9)\n"
     ]
    }
   ],
   "source": [
    "T_s2d = Matrix(time_s2d_df);\n",
    "L_s2d = Matrix(length_s2d_df);\n",
    "T_d2d = Matrix(time_d2d_df);\n",
    "L_d2d = Matrix(length_d2d_df);\n",
    "\n",
    "println(\"T_s2d: $(size(T_s2d)), L_s2d: $(size(L_s2d)), T_d2d: $(size(T_d2d)), L_d2d: $(size(L_d2d))\")"
   ]
  },
  {
   "cell_type": "markdown",
   "id": "4218907e",
   "metadata": {},
   "source": [
    "# Problem\n",
    "- We now additionally consider that each robot has a fixed starting source.\n",
    "- The number of robots is less than the number of destinations."
   ]
  },
  {
   "cell_type": "code",
   "execution_count": 77,
   "id": "974acf04",
   "metadata": {},
   "outputs": [
    {
     "name": "stdout",
     "output_type": "stream",
     "text": [
      "There are a 9 destinations but only 4 robots to visit them all.\n"
     ]
    }
   ],
   "source": [
    "S = [2, 1, 1];\n",
    "@assert size(S) == (n_src,)\n",
    "@assert sum(S) < n_dst\n",
    "\n",
    "println(\"There are a $n_dst destinations but only $(sum(S)) robots to visit them all.\")"
   ]
  },
  {
   "cell_type": "code",
   "execution_count": 78,
   "metadata": {},
   "outputs": [
    {
     "name": "stdout",
     "output_type": "stream",
     "text": [
      "n_steps: 3, all_steps: 1:3, later_steps: 1:2\n"
     ]
    }
   ],
   "source": [
    "# We assume that each robot visits a maximum of n_steps destinations.\n",
    "n_steps = 3;\n",
    "all_steps = 1:n_steps;\n",
    "later_steps = 1:(n_steps-1);\n",
    "\n",
    "println(\"n_steps: $n_steps, all_steps: $all_steps, later_steps: $later_steps\")"
   ]
  },
  {
   "cell_type": "markdown",
   "id": "3c599389",
   "metadata": {},
   "source": [
    "# Minimum Time"
   ]
  },
  {
   "cell_type": "code",
   "execution_count": 79,
   "id": "8038fa03",
   "metadata": {},
   "outputs": [
    {
     "name": "stdout",
     "output_type": "stream",
     "text": [
      "Set parameter Username\n",
      "Academic license - for non-commercial use only - expires 2024-09-19\n",
      "Gurobi Optimizer version 10.0.0 build v10.0.0rc2 (linux64)\n",
      "\n",
      "CPU model: AMD Ryzen 9 3950X 16-Core Processor, instruction set [SSE2|AVX|AVX2]\n",
      "Thread count: 16 physical cores, 32 logical processors, using up to 32 threads\n",
      "\n",
      "Optimize a model with 30 rows, 189 columns and 486 nonzeros\n",
      "Model fingerprint: 0x45a1476a\n",
      "Variable types: 0 continuous, 189 integer (0 binary)\n",
      "Coefficient statistics:\n",
      "  Matrix range     [1e+00, 1e+00]\n",
      "  Objective range  [2e+00, 5e+01]\n",
      "  Bounds range     [0e+00, 0e+00]\n",
      "  RHS range        [1e+00, 2e+00]\n",
      "Found heuristic solution: objective 276.0520543\n",
      "Presolve time: 0.00s\n",
      "Presolved: 30 rows, 189 columns, 486 nonzeros\n",
      "Variable types: 0 continuous, 189 integer (18 binary)\n",
      "Found heuristic solution: objective 253.3381004\n",
      "\n",
      "Root relaxation: objective 5.530161e+01, 26 iterations, 0.00 seconds (0.00 work units)\n",
      "\n",
      "    Nodes    |    Current Node    |     Objective Bounds      |     Work\n",
      " Expl Unexpl |  Obj  Depth IntInf | Incumbent    BestBd   Gap | It/Node Time\n",
      "\n",
      "     0     0   55.30161    0   24  253.33810   55.30161  78.2%     -    0s\n",
      "H    0     0                     244.2406481   55.30161  77.4%     -    0s\n",
      "H    0     0                     151.7115349   55.30161  63.5%     -    0s\n",
      "H    0     0                     130.9111487   93.12425  28.9%     -    0s\n",
      "     0     0   93.12425    0   14  130.91115   93.12425  28.9%     -    0s\n",
      "H    0     0                     101.7291656   93.12425  8.46%     -    0s\n",
      "*    0     0               0      98.7691648   98.76916  0.00%     -    0s\n",
      "\n",
      "Cutting planes:\n",
      "  Gomory: 9\n",
      "  MIR: 12\n",
      "  Zero half: 5\n",
      "\n",
      "Explored 1 nodes (43 simplex iterations) in 0.01 seconds (0.00 work units)\n",
      "Thread count was 32 (of 32 available processors)\n",
      "\n",
      "Solution count 7: 98.7692 101.729 130.911 ... 276.052\n",
      "\n",
      "Optimal solution found (tolerance 1.00e-04)\n",
      "Best objective 9.876916481551e+01, best bound 9.876916481551e+01, gap 0.0000%\n",
      "\n",
      "User-callback calls 191, time in user-callback 0.00 sec\n"
     ]
    },
    {
     "data": {
      "text/plain": [
       "* Solver : Gurobi\n",
       "\n",
       "* Status\n",
       "  Result count       : 7\n",
       "  Termination status : OPTIMAL\n",
       "  Message from the solver:\n",
       "  \"Model was solved to optimality (subject to tolerances), and an optimal solution is available.\"\n",
       "\n",
       "* Candidate solution (result #1)\n",
       "  Primal status      : FEASIBLE_POINT\n",
       "  Dual status        : NO_SOLUTION\n",
       "  Objective value    : 9.87692e+01\n",
       "  Objective bound    : 9.87692e+01\n",
       "  Relative gap       : 0.00000e+00\n",
       "  Dual objective value : 9.87692e+01\n",
       "\n",
       "* Work counters\n",
       "  Solve time (sec)   : 7.66397e-03\n",
       "  Barrier iterations : 0\n",
       "  Node count         : 1\n"
      ]
     },
     "metadata": {},
     "output_type": "display_data"
    }
   ],
   "source": [
    "model1 = Model(Gurobi.Optimizer)\n",
    "\n",
    "@variable(model1, x0[all_src, all_dst] >= 0, Int);\n",
    "@variable(model1, x1[later_steps, all_dst, all_dst] >= 0, Int);\n",
    "\n",
    "time_fromsrc = sum(sum(T_s2d[ii, jj] * x0[ii, jj] for ii in all_src) for jj in all_dst);\n",
    "time_fromdst = sum(sum(sum(T_d2d[ii, jj] * x1[kk, ii, jj] for ii in all_dst) for jj in all_dst) for kk in later_steps);\n",
    "\n",
    "@objective(model1, Min, time_fromsrc + time_fromdst);\n",
    "\n",
    "# Each destination must be served by at least one source.\n",
    "@constraint(model1, demand[jj in all_dst], sum(x0[ii, jj] for ii in all_src) + sum(sum(x1[kk, ii, jj] for ii in all_dst) for kk in later_steps) >= 1);\n",
    "\n",
    "# Continuity constraints. x0_{ij} = x1_{jl}\n",
    "@constraint(model1, cont0[jj in all_dst], sum(x0[ii, jj] for ii in all_src) == sum(x1[1, jj, ll] for ll in all_dst));\n",
    "# Continuity constraints. x1_{ij} = x2_{jl}\n",
    "@constraint(model1, cont1[kk in 1:(n_steps-2), jj in all_dst], sum(x1[kk, ii, jj] for ii in all_dst) == sum(x1[kk + 1, jj, ll] for ll in all_dst));\n",
    "\n",
    "# Each robot must start from its assigned source.\n",
    "@constraint(model1, start[ii in all_src], sum(x0[ii, jj] for jj in all_dst) == S[ii]);\n",
    "\n",
    "# Solve.\n",
    "optimize!(model1);\n",
    "solution_summary(model1)"
   ]
  },
  {
   "cell_type": "code",
   "execution_count": 80,
   "id": "bd37195a",
   "metadata": {},
   "outputs": [
    {
     "data": {
      "text/plain": [
       "3×9 Matrix{Float64}:\n",
       "  1.0  -0.0  -0.0   0.0   0.0   0.0  -0.0   0.0   1.0\n",
       " -0.0   0.0   1.0  -0.0  -0.0  -0.0  -0.0  -0.0  -0.0\n",
       " -0.0  -0.0   0.0  -0.0  -0.0  -0.0   1.0  -0.0  -0.0"
      ]
     },
     "metadata": {},
     "output_type": "display_data"
    },
    {
     "data": {
      "text/plain": [
       "9×9 Matrix{Float64}:\n",
       "  1.0  -0.0  -0.0  -0.0  -0.0  -0.0  -0.0  -0.0  -0.0\n",
       " -0.0   0.0  -0.0  -0.0  -0.0  -0.0  -0.0  -0.0  -0.0\n",
       " -0.0  -0.0   1.0  -0.0  -0.0  -0.0  -0.0  -0.0  -0.0\n",
       " -0.0  -0.0  -0.0   0.0  -0.0  -0.0  -0.0  -0.0  -0.0\n",
       " -0.0  -0.0  -0.0  -0.0  -0.0   0.0  -0.0  -0.0  -0.0\n",
       " -0.0  -0.0  -0.0  -0.0   0.0   0.0  -0.0  -0.0  -0.0\n",
       " -0.0  -0.0  -0.0  -0.0  -0.0   1.0  -0.0  -0.0  -0.0\n",
       " -0.0  -0.0  -0.0  -0.0  -0.0  -0.0  -0.0   0.0  -0.0\n",
       " -0.0  -0.0  -0.0  -0.0  -0.0  -0.0  -0.0   1.0   0.0"
      ]
     },
     "metadata": {},
     "output_type": "display_data"
    },
    {
     "data": {
      "text/plain": [
       "9×9 Matrix{Float64}:\n",
       "  1.0  -0.0  -0.0  -0.0  -0.0  -0.0  -0.0  -0.0  -0.0\n",
       " -0.0   0.0  -0.0  -0.0  -0.0  -0.0  -0.0  -0.0  -0.0\n",
       " -0.0   1.0   0.0  -0.0  -0.0  -0.0   0.0  -0.0  -0.0\n",
       " -0.0  -0.0  -0.0   0.0  -0.0  -0.0  -0.0  -0.0  -0.0\n",
       " -0.0  -0.0  -0.0  -0.0   0.0   0.0  -0.0  -0.0  -0.0\n",
       " -0.0  -0.0  -0.0  -0.0   1.0  -0.0  -0.0  -0.0  -0.0\n",
       " -0.0  -0.0  -0.0  -0.0  -0.0  -0.0   0.0  -0.0  -0.0\n",
       " -0.0  -0.0  -0.0   1.0  -0.0  -0.0  -0.0   0.0  -0.0\n",
       " -0.0  -0.0  -0.0   0.0  -0.0  -0.0  -0.0  -0.0   0.0"
      ]
     },
     "metadata": {},
     "output_type": "display_data"
    }
   ],
   "source": [
    "# Save solution.\n",
    "x1_0 = Array(value.(x0));\n",
    "x1_1 = Array(value.(x1));\n",
    "\n",
    "npzwrite(\"sols/problem3_time.npz\", Dict(\"x0\" => x1_0, \"x1\" => x1_1, \"objective\" => objective_value(model1)))\n",
    "\n",
    "display(x1_0)\n",
    "display(x1_1[1, :, :])\n",
    "display(x1_1[2, :, :])"
   ]
  },
  {
   "cell_type": "markdown",
   "id": "72341de3",
   "metadata": {},
   "source": [
    "# Minimum Distance"
   ]
  },
  {
   "cell_type": "code",
   "execution_count": 81,
   "id": "b300bacd",
   "metadata": {},
   "outputs": [
    {
     "name": "stdout",
     "output_type": "stream",
     "text": [
      "Set parameter Username\n",
      "Academic license - for non-commercial use only - expires 2024-09-19\n",
      "Gurobi Optimizer version 10.0.0 build v10.0.0rc2 (linux64)\n",
      "\n",
      "CPU model: AMD Ryzen 9 3950X 16-Core Processor, instruction set [SSE2|AVX|AVX2]\n",
      "Thread count: 16 physical cores, 32 logical processors, using up to 32 threads\n",
      "\n",
      "Optimize a model with 30 rows, 189 columns and 486 nonzeros\n",
      "Model fingerprint: 0xd21042a6\n",
      "Variable types: 0 continuous, 189 integer (0 binary)\n",
      "Coefficient statistics:\n",
      "  Matrix range     [1e+00, 1e+00]\n",
      "  Objective range  [3e-01, 5e+00]\n",
      "  Bounds range     [0e+00, 0e+00]\n",
      "  RHS range        [1e+00, 2e+00]\n",
      "Found heuristic solution: objective 28.9779851\n",
      "Presolve time: 0.00s\n",
      "Presolved: 30 rows, 189 columns, 486 nonzeros\n",
      "Variable types: 0 continuous, 189 integer (18 binary)\n",
      "Found heuristic solution: objective 26.3876927\n",
      "\n",
      "Root relaxation: objective 5.866764e+00, 27 iterations, 0.00 seconds (0.00 work units)\n",
      "\n",
      "    Nodes    |    Current Node    |     Objective Bounds      |     Work\n",
      " Expl Unexpl |  Obj  Depth IntInf | Incumbent    BestBd   Gap | It/Node Time\n",
      "\n",
      "     0     0    5.86676    0   24   26.38769    5.86676  77.8%     -    0s\n",
      "H    0     0                      19.1542039    5.86676  69.4%     -    0s\n",
      "H    0     0                      16.0376609    5.86676  63.4%     -    0s\n",
      "     0     0    9.90141    0   16   16.03766    9.90141  38.3%     -    0s\n",
      "H    0     0                      14.7079052    9.90141  32.7%     -    0s\n",
      "H    0     0                      14.0993087    9.90141  29.8%     -    0s\n",
      "H    0     0                      12.9945764    9.90141  23.8%     -    0s\n",
      "*    0     0               0      10.5672070   10.56721  0.00%     -    0s\n",
      "\n",
      "Cutting planes:\n",
      "  Gomory: 9\n",
      "  MIR: 7\n",
      "  Zero half: 5\n",
      "\n",
      "Explored 1 nodes (48 simplex iterations) in 0.01 seconds (0.00 work units)\n",
      "Thread count was 32 (of 32 available processors)\n",
      "\n",
      "Solution count 8: 10.5672 12.9946 14.0993 ... 28.978\n",
      "\n",
      "Optimal solution found (tolerance 1.00e-04)\n",
      "Best objective 1.056720695596e+01, best bound 1.056720695596e+01, gap 0.0000%\n",
      "\n",
      "User-callback calls 194, time in user-callback 0.00 sec\n"
     ]
    },
    {
     "data": {
      "text/plain": [
       "* Solver : Gurobi\n",
       "\n",
       "* Status\n",
       "  Result count       : 8\n",
       "  Termination status : OPTIMAL\n",
       "  Message from the solver:\n",
       "  \"Model was solved to optimality (subject to tolerances), and an optimal solution is available.\"\n",
       "\n",
       "* Candidate solution (result #1)\n",
       "  Primal status      : FEASIBLE_POINT\n",
       "  Dual status        : NO_SOLUTION\n",
       "  Objective value    : 1.05672e+01\n",
       "  Objective bound    : 1.05672e+01\n",
       "  Relative gap       : 0.00000e+00\n",
       "  Dual objective value : 1.05672e+01\n",
       "\n",
       "* Work counters\n",
       "  Solve time (sec)   : 8.16512e-03\n",
       "  Barrier iterations : 0\n",
       "  Node count         : 1\n"
      ]
     },
     "metadata": {},
     "output_type": "display_data"
    }
   ],
   "source": [
    "model2 = Model(Gurobi.Optimizer)\n",
    "\n",
    "@variable(model2, x0[all_src, all_dst] >= 0, Int);\n",
    "@variable(model2, x1[later_steps, all_dst, all_dst] >= 0, Int);\n",
    "\n",
    "time_fromsrc = sum(sum(L_s2d[ii, jj] * x0[ii, jj] for ii in all_src) for jj in all_dst);\n",
    "time_fromdst = sum(sum(sum(L_d2d[ii, jj] * x1[kk, ii, jj] for ii in all_dst) for jj in all_dst) for kk in later_steps);\n",
    "\n",
    "@objective(model2, Min, time_fromsrc + time_fromdst);\n",
    "\n",
    "# Each destination must be served by at least one source.\n",
    "@constraint(model2, demand[jj in all_dst], sum(x0[ii, jj] for ii in all_src) + sum(sum(x1[kk, ii, jj] for ii in all_dst) for kk in later_steps) >= 1);\n",
    "\n",
    "# Continuity constraints. x0_{ij} = x1_{jl}\n",
    "@constraint(model2, cont0[jj in all_dst], sum(x0[ii, jj] for ii in all_src) == sum(x1[1, jj, ll] for ll in all_dst));\n",
    "# Continuity constraints. x1_{ij} = x2_{jl}\n",
    "@constraint(model2, cont1[kk in 1:(n_steps-2), jj in all_dst], sum(x1[kk, ii, jj] for ii in all_dst) == sum(x1[kk + 1, jj, ll] for ll in all_dst));\n",
    "\n",
    "# Each robot must start from its assigned source.\n",
    "@constraint(model2, start[ii in all_src], sum(x0[ii, jj] for jj in all_dst) == S[ii]);\n",
    "\n",
    "# Solve.\n",
    "optimize!(model2);\n",
    "solution_summary(model2)"
   ]
  },
  {
   "cell_type": "code",
   "execution_count": 82,
   "id": "8ac455a0",
   "metadata": {},
   "outputs": [
    {
     "data": {
      "text/plain": [
       "3×9 Matrix{Float64}:\n",
       "  1.0  -0.0  -0.0   0.0   0.0   0.0  -0.0   0.0   1.0\n",
       " -0.0   0.0   1.0  -0.0  -0.0  -0.0  -0.0  -0.0  -0.0\n",
       " -0.0   0.0  -0.0  -0.0  -0.0  -0.0   1.0  -0.0  -0.0"
      ]
     },
     "metadata": {},
     "output_type": "display_data"
    },
    {
     "data": {
      "text/plain": [
       "9×9 Matrix{Float64}:\n",
       "  1.0  -0.0  -0.0  -0.0  -0.0  -0.0  -0.0  -0.0  -0.0\n",
       " -0.0   0.0  -0.0  -0.0  -0.0  -0.0  -0.0  -0.0  -0.0\n",
       " -0.0   1.0  -0.0  -0.0  -0.0  -0.0   0.0  -0.0  -0.0\n",
       " -0.0  -0.0  -0.0   0.0  -0.0  -0.0  -0.0  -0.0  -0.0\n",
       " -0.0  -0.0  -0.0  -0.0  -0.0   0.0  -0.0  -0.0  -0.0\n",
       " -0.0  -0.0  -0.0  -0.0   0.0   0.0  -0.0  -0.0  -0.0\n",
       " -0.0  -0.0   0.0  -0.0  -0.0   1.0  -0.0  -0.0  -0.0\n",
       " -0.0  -0.0  -0.0  -0.0  -0.0  -0.0  -0.0   0.0  -0.0\n",
       " -0.0  -0.0  -0.0  -0.0  -0.0  -0.0  -0.0   1.0   0.0"
      ]
     },
     "metadata": {},
     "output_type": "display_data"
    },
    {
     "data": {
      "text/plain": [
       "9×9 Matrix{Float64}:\n",
       "  1.0  -0.0  -0.0  -0.0  -0.0  -0.0  -0.0  -0.0  -0.0\n",
       " -0.0   1.0  -0.0  -0.0  -0.0  -0.0  -0.0  -0.0  -0.0\n",
       " -0.0   0.0   0.0  -0.0  -0.0  -0.0  -0.0  -0.0  -0.0\n",
       " -0.0  -0.0  -0.0   0.0  -0.0  -0.0  -0.0  -0.0  -0.0\n",
       " -0.0  -0.0  -0.0  -0.0   0.0   0.0  -0.0  -0.0  -0.0\n",
       " -0.0  -0.0  -0.0  -0.0   1.0  -0.0  -0.0  -0.0  -0.0\n",
       " -0.0  -0.0   0.0  -0.0  -0.0  -0.0  -0.0  -0.0  -0.0\n",
       " -0.0  -0.0  -0.0   1.0  -0.0  -0.0  -0.0   0.0  -0.0\n",
       " -0.0  -0.0  -0.0   0.0  -0.0  -0.0  -0.0  -0.0   0.0"
      ]
     },
     "metadata": {},
     "output_type": "display_data"
    }
   ],
   "source": [
    "# Save solution.\n",
    "x2_0 = Array(value.(x0));\n",
    "x2_1 = Array(value.(x1));\n",
    "\n",
    "npzwrite(\"sols/problem3_dist.npz\", Dict(\"x0\" => x2_0, \"x1\" => x2_1, \"objective\" => objective_value(model2)))\n",
    "\n",
    "display(x2_0)\n",
    "display(x2_1[1, :, :])\n",
    "display(x2_1[2, :, :])"
   ]
  },
  {
   "cell_type": "markdown",
   "metadata": {},
   "source": [
    "# Compare the solutions."
   ]
  },
  {
   "cell_type": "code",
   "execution_count": 83,
   "metadata": {},
   "outputs": [
    {
     "data": {
      "text/plain": [
       "3×9 Matrix{Float64}:\n",
       " 0.0   0.0  0.0  0.0  0.0  0.0  0.0  0.0  0.0\n",
       " 0.0   0.0  0.0  0.0  0.0  0.0  0.0  0.0  0.0\n",
       " 0.0  -0.0  0.0  0.0  0.0  0.0  0.0  0.0  0.0"
      ]
     },
     "metadata": {},
     "output_type": "display_data"
    },
    {
     "data": {
      "text/plain": [
       "9×9 Matrix{Float64}:\n",
       " 0.0   0.0   0.0  0.0  0.0  0.0   0.0  0.0  0.0\n",
       " 0.0   0.0   0.0  0.0  0.0  0.0   0.0  0.0  0.0\n",
       " 0.0  -1.0   1.0  0.0  0.0  0.0  -0.0  0.0  0.0\n",
       " 0.0   0.0   0.0  0.0  0.0  0.0   0.0  0.0  0.0\n",
       " 0.0   0.0   0.0  0.0  0.0  0.0   0.0  0.0  0.0\n",
       " 0.0   0.0   0.0  0.0  0.0  0.0   0.0  0.0  0.0\n",
       " 0.0   0.0  -0.0  0.0  0.0  0.0   0.0  0.0  0.0\n",
       " 0.0   0.0   0.0  0.0  0.0  0.0   0.0  0.0  0.0\n",
       " 0.0   0.0   0.0  0.0  0.0  0.0   0.0  0.0  0.0"
      ]
     },
     "metadata": {},
     "output_type": "display_data"
    },
    {
     "data": {
      "text/plain": [
       "9×9 Matrix{Float64}:\n",
       " 0.0   0.0   0.0  0.0  0.0  0.0  0.0  0.0  0.0\n",
       " 0.0  -1.0   0.0  0.0  0.0  0.0  0.0  0.0  0.0\n",
       " 0.0   1.0   0.0  0.0  0.0  0.0  0.0  0.0  0.0\n",
       " 0.0   0.0   0.0  0.0  0.0  0.0  0.0  0.0  0.0\n",
       " 0.0   0.0   0.0  0.0  0.0  0.0  0.0  0.0  0.0\n",
       " 0.0   0.0   0.0  0.0  0.0  0.0  0.0  0.0  0.0\n",
       " 0.0   0.0  -0.0  0.0  0.0  0.0  0.0  0.0  0.0\n",
       " 0.0   0.0   0.0  0.0  0.0  0.0  0.0  0.0  0.0\n",
       " 0.0   0.0   0.0  0.0  0.0  0.0  0.0  0.0  0.0"
      ]
     },
     "metadata": {},
     "output_type": "display_data"
    }
   ],
   "source": [
    "display(x1_0 - x2_0)\n",
    "\n",
    "display((x1_1 - x2_1)[1, :, :])\n",
    "display((x1_1 - x2_1)[2, :, :])"
   ]
  }
 ],
 "metadata": {
  "kernelspec": {
   "display_name": "Julia 1.9.2",
   "language": "julia",
   "name": "julia-1.9"
  },
  "language_info": {
   "file_extension": ".jl",
   "mimetype": "application/julia",
   "name": "julia",
   "version": "1.9.2"
  }
 },
 "nbformat": 4,
 "nbformat_minor": 5
}
