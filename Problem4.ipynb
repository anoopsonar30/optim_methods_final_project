{
 "cells": [
  {
   "cell_type": "code",
   "execution_count": 19,
   "id": "76e15520",
   "metadata": {},
   "outputs": [],
   "source": [
    "using CSV, DataFrames, JuMP, Gurobi, Formatting, NPZ"
   ]
  },
  {
   "cell_type": "code",
   "execution_count": 20,
   "id": "522832ff",
   "metadata": {},
   "outputs": [
    {
     "name": "stderr",
     "output_type": "stream",
     "text": [
      "\u001b[32m\u001b[1m   Resolving\u001b[22m\u001b[39m package versions...\n",
      "\u001b[32m\u001b[1m  No Changes\u001b[22m\u001b[39m to `~/.julia/environments/v1.9/Project.toml`\n",
      "\u001b[32m\u001b[1m  No Changes\u001b[22m\u001b[39m to `~/.julia/environments/v1.9/Manifest.toml`\n",
      "\u001b[32m\u001b[1m   Resolving\u001b[22m\u001b[39m package versions...\n",
      "\u001b[32m\u001b[1m  No Changes\u001b[22m\u001b[39m to `~/.julia/environments/v1.9/Project.toml`\n",
      "\u001b[32m\u001b[1m  No Changes\u001b[22m\u001b[39m to `~/.julia/environments/v1.9/Manifest.toml`\n",
      "\u001b[32m\u001b[1m   Resolving\u001b[22m\u001b[39m package versions...\n",
      "\u001b[32m\u001b[1m  No Changes\u001b[22m\u001b[39m to `~/.julia/environments/v1.9/Project.toml`\n",
      "\u001b[32m\u001b[1m  No Changes\u001b[22m\u001b[39m to `~/.julia/environments/v1.9/Manifest.toml`\n",
      "\u001b[32m\u001b[1m   Resolving\u001b[22m\u001b[39m package versions...\n",
      "\u001b[32m\u001b[1m  No Changes\u001b[22m\u001b[39m to `~/.julia/environments/v1.9/Project.toml`\n",
      "\u001b[32m\u001b[1m  No Changes\u001b[22m\u001b[39m to `~/.julia/environments/v1.9/Manifest.toml`\n"
     ]
    }
   ],
   "source": [
    "import Pkg;\n",
    "Pkg.add(\"JuMP\")\n",
    "Pkg.add(\"Gurobi\")\n",
    "Pkg.add(\"Formatting\")\n",
    "Pkg.add(\"NPZ\")"
   ]
  },
  {
   "cell_type": "markdown",
   "id": "f280639e",
   "metadata": {},
   "source": [
    "# Loading Data"
   ]
  },
  {
   "cell_type": "code",
   "execution_count": 21,
   "id": "744d8235",
   "metadata": {},
   "outputs": [],
   "source": [
    "time_s2d_df = CSV.read(\"csv/time_srcs_to_dests.csv\", DataFrame, header=false);\n",
    "length_s2d_df = CSV.read(\"csv/length_srcs_to_dests.csv\", DataFrame, header=false);\n",
    "\n",
    "time_d2d_df = CSV.read(\"csv/time_dests_to_dests.csv\", DataFrame, header=false);\n",
    "length_d2d_df = CSV.read(\"csv/length_dests_to_dests.csv\", DataFrame, header=false);"
   ]
  },
  {
   "cell_type": "code",
   "execution_count": 22,
   "id": "bc953876",
   "metadata": {},
   "outputs": [
    {
     "data": {
      "text/html": [
       "<div><div style = \"float: left;\"><span>2×9 DataFrame</span></div><div style = \"clear: both;\"></div></div><div class = \"data-frame\" style = \"overflow-x: scroll;\"><table class = \"data-frame\" style = \"margin-bottom: 6px;\"><thead><tr class = \"header\"><th class = \"rowNumber\" style = \"font-weight: bold; text-align: right;\">Row</th><th style = \"text-align: left;\">Column1</th><th style = \"text-align: left;\">Column2</th><th style = \"text-align: left;\">Column3</th><th style = \"text-align: left;\">Column4</th><th style = \"text-align: left;\">Column5</th><th style = \"text-align: left;\">Column6</th><th style = \"text-align: left;\">Column7</th><th style = \"text-align: left;\">Column8</th><th style = \"text-align: left;\">Column9</th></tr><tr class = \"subheader headerLastRow\"><th class = \"rowNumber\" style = \"font-weight: bold; text-align: right;\"></th><th title = \"Float64\" style = \"text-align: left;\">Float64</th><th title = \"Float64\" style = \"text-align: left;\">Float64</th><th title = \"Float64\" style = \"text-align: left;\">Float64</th><th title = \"Float64\" style = \"text-align: left;\">Float64</th><th title = \"Float64\" style = \"text-align: left;\">Float64</th><th title = \"Float64\" style = \"text-align: left;\">Float64</th><th title = \"Float64\" style = \"text-align: left;\">Float64</th><th title = \"Float64\" style = \"text-align: left;\">Float64</th><th title = \"Float64\" style = \"text-align: left;\">Float64</th></tr></thead><tbody><tr><td class = \"rowNumber\" style = \"font-weight: bold; text-align: right;\">1</td><td style = \"text-align: right;\">0.0</td><td style = \"text-align: right;\">50.1583</td><td style = \"text-align: right;\">33.3067</td><td style = \"text-align: right;\">25.5429</td><td style = \"text-align: right;\">27.6542</td><td style = \"text-align: right;\">22.7042</td><td style = \"text-align: right;\">28.0369</td><td style = \"text-align: right;\">22.2431</td><td style = \"text-align: right;\">22.1509</td></tr><tr><td class = \"rowNumber\" style = \"font-weight: bold; text-align: right;\">2</td><td style = \"text-align: right;\">50.1583</td><td style = \"text-align: right;\">0.0</td><td style = \"text-align: right;\">20.9763</td><td style = \"text-align: right;\">43.2164</td><td style = \"text-align: right;\">41.9561</td><td style = \"text-align: right;\">37.0061</td><td style = \"text-align: right;\">26.3583</td><td style = \"text-align: right;\">40.6364</td><td style = \"text-align: right;\">40.262</td></tr></tbody></table></div>"
      ],
      "text/latex": [
       "\\begin{tabular}{r|ccccccccc}\n",
       "\t& Column1 & Column2 & Column3 & Column4 & Column5 & Column6 & Column7 & Column8 & Column9\\\\\n",
       "\t\\hline\n",
       "\t& Float64 & Float64 & Float64 & Float64 & Float64 & Float64 & Float64 & Float64 & Float64\\\\\n",
       "\t\\hline\n",
       "\t1 & 0.0 & 50.1583 & 33.3067 & 25.5429 & 27.6542 & 22.7042 & 28.0369 & 22.2431 & 22.1509 \\\\\n",
       "\t2 & 50.1583 & 0.0 & 20.9763 & 43.2164 & 41.9561 & 37.0061 & 26.3583 & 40.6364 & 40.262 \\\\\n",
       "\\end{tabular}\n"
      ],
      "text/plain": [
       "\u001b[1m2×9 DataFrame\u001b[0m\n",
       "\u001b[1m Row \u001b[0m│\u001b[1m Column1 \u001b[0m\u001b[1m Column2 \u001b[0m\u001b[1m Column3 \u001b[0m\u001b[1m Column4 \u001b[0m\u001b[1m Column5 \u001b[0m\u001b[1m Column6 \u001b[0m\u001b[1m Column7 \u001b[0m\u001b[1m Column8 \u001b[0m\u001b[1m\u001b[0m ⋯\n",
       "     │\u001b[90m Float64 \u001b[0m\u001b[90m Float64 \u001b[0m\u001b[90m Float64 \u001b[0m\u001b[90m Float64 \u001b[0m\u001b[90m Float64 \u001b[0m\u001b[90m Float64 \u001b[0m\u001b[90m Float64 \u001b[0m\u001b[90m Float64 \u001b[0m\u001b[90m\u001b[0m ⋯\n",
       "─────┼──────────────────────────────────────────────────────────────────────────\n",
       "   1 │  0.0     50.1583  33.3067  25.5429  27.6542  22.7042  28.0369  22.2431  ⋯\n",
       "   2 │ 50.1583   0.0     20.9763  43.2164  41.9561  37.0061  26.3583  40.6364\n",
       "\u001b[36m                                                                1 column omitted\u001b[0m"
      ]
     },
     "execution_count": 22,
     "metadata": {},
     "output_type": "execute_result"
    }
   ],
   "source": [
    "first(time_d2d_df, 2)"
   ]
  },
  {
   "cell_type": "code",
   "execution_count": 23,
   "id": "d53d7121",
   "metadata": {},
   "outputs": [
    {
     "data": {
      "text/html": [
       "<div><div style = \"float: left;\"><span>2×9 DataFrame</span></div><div style = \"clear: both;\"></div></div><div class = \"data-frame\" style = \"overflow-x: scroll;\"><table class = \"data-frame\" style = \"margin-bottom: 6px;\"><thead><tr class = \"header\"><th class = \"rowNumber\" style = \"font-weight: bold; text-align: right;\">Row</th><th style = \"text-align: left;\">Column1</th><th style = \"text-align: left;\">Column2</th><th style = \"text-align: left;\">Column3</th><th style = \"text-align: left;\">Column4</th><th style = \"text-align: left;\">Column5</th><th style = \"text-align: left;\">Column6</th><th style = \"text-align: left;\">Column7</th><th style = \"text-align: left;\">Column8</th><th style = \"text-align: left;\">Column9</th></tr><tr class = \"subheader headerLastRow\"><th class = \"rowNumber\" style = \"font-weight: bold; text-align: right;\"></th><th title = \"Float64\" style = \"text-align: left;\">Float64</th><th title = \"Float64\" style = \"text-align: left;\">Float64</th><th title = \"Float64\" style = \"text-align: left;\">Float64</th><th title = \"Float64\" style = \"text-align: left;\">Float64</th><th title = \"Float64\" style = \"text-align: left;\">Float64</th><th title = \"Float64\" style = \"text-align: left;\">Float64</th><th title = \"Float64\" style = \"text-align: left;\">Float64</th><th title = \"Float64\" style = \"text-align: left;\">Float64</th><th title = \"Float64\" style = \"text-align: left;\">Float64</th></tr></thead><tbody><tr><td class = \"rowNumber\" style = \"font-weight: bold; text-align: right;\">1</td><td style = \"text-align: right;\">0.0</td><td style = \"text-align: right;\">5.36814</td><td style = \"text-align: right;\">3.37471</td><td style = \"text-align: right;\">2.9547</td><td style = \"text-align: right;\">2.86724</td><td style = \"text-align: right;\">2.34539</td><td style = \"text-align: right;\">2.84076</td><td style = \"text-align: right;\">2.55595</td><td style = \"text-align: right;\">2.59004</td></tr><tr><td class = \"rowNumber\" style = \"font-weight: bold; text-align: right;\">2</td><td style = \"text-align: right;\">5.36814</td><td style = \"text-align: right;\">0.0</td><td style = \"text-align: right;\">2.32505</td><td style = \"text-align: right;\">4.58539</td><td style = \"text-align: right;\">4.39593</td><td style = \"text-align: right;\">3.89126</td><td style = \"text-align: right;\">2.74863</td><td style = \"text-align: right;\">4.30058</td><td style = \"text-align: right;\">4.2832</td></tr></tbody></table></div>"
      ],
      "text/latex": [
       "\\begin{tabular}{r|ccccccccc}\n",
       "\t& Column1 & Column2 & Column3 & Column4 & Column5 & Column6 & Column7 & Column8 & Column9\\\\\n",
       "\t\\hline\n",
       "\t& Float64 & Float64 & Float64 & Float64 & Float64 & Float64 & Float64 & Float64 & Float64\\\\\n",
       "\t\\hline\n",
       "\t1 & 0.0 & 5.36814 & 3.37471 & 2.9547 & 2.86724 & 2.34539 & 2.84076 & 2.55595 & 2.59004 \\\\\n",
       "\t2 & 5.36814 & 0.0 & 2.32505 & 4.58539 & 4.39593 & 3.89126 & 2.74863 & 4.30058 & 4.2832 \\\\\n",
       "\\end{tabular}\n"
      ],
      "text/plain": [
       "\u001b[1m2×9 DataFrame\u001b[0m\n",
       "\u001b[1m Row \u001b[0m│\u001b[1m Column1 \u001b[0m\u001b[1m Column2 \u001b[0m\u001b[1m Column3 \u001b[0m\u001b[1m Column4 \u001b[0m\u001b[1m Column5 \u001b[0m\u001b[1m Column6 \u001b[0m\u001b[1m Column7 \u001b[0m\u001b[1m Column8 \u001b[0m\u001b[1m\u001b[0m ⋯\n",
       "     │\u001b[90m Float64 \u001b[0m\u001b[90m Float64 \u001b[0m\u001b[90m Float64 \u001b[0m\u001b[90m Float64 \u001b[0m\u001b[90m Float64 \u001b[0m\u001b[90m Float64 \u001b[0m\u001b[90m Float64 \u001b[0m\u001b[90m Float64 \u001b[0m\u001b[90m\u001b[0m ⋯\n",
       "─────┼──────────────────────────────────────────────────────────────────────────\n",
       "   1 │ 0.0      5.36814  3.37471  2.9547   2.86724  2.34539  2.84076  2.55595  ⋯\n",
       "   2 │ 5.36814  0.0      2.32505  4.58539  4.39593  3.89126  2.74863  4.30058\n",
       "\u001b[36m                                                                1 column omitted\u001b[0m"
      ]
     },
     "execution_count": 23,
     "metadata": {},
     "output_type": "execute_result"
    }
   ],
   "source": [
    "first(length_d2d_df, 2)"
   ]
  },
  {
   "cell_type": "code",
   "execution_count": 24,
   "id": "bb1586b3",
   "metadata": {},
   "outputs": [
    {
     "name": "stdout",
     "output_type": "stream",
     "text": [
      "all_src: 1:3, all_dst: 1:9\n"
     ]
    }
   ],
   "source": [
    "n_src = nrow(time_s2d_df);\n",
    "n_dst = ncol(time_s2d_df);\n",
    "\n",
    "all_src = 1:n_src;\n",
    "all_dst = 1:n_dst;\n",
    "\n",
    "println(\"all_src: $all_src, all_dst: $all_dst\")"
   ]
  },
  {
   "cell_type": "code",
   "execution_count": 25,
   "id": "5ba4951d",
   "metadata": {},
   "outputs": [
    {
     "name": "stdout",
     "output_type": "stream",
     "text": [
      "T_s2d: (3, 9), L_s2d: (3, 9), T_d2d: (9, 9), L_d2d: (9, 9)\n"
     ]
    }
   ],
   "source": [
    "T_s2d = Matrix(time_s2d_df);\n",
    "L_s2d = Matrix(length_s2d_df);\n",
    "T_d2d = Matrix(time_d2d_df);\n",
    "L_d2d = Matrix(length_d2d_df);\n",
    "\n",
    "println(\"T_s2d: $(size(T_s2d)), L_s2d: $(size(L_s2d)), T_d2d: $(size(T_d2d)), L_d2d: $(size(L_d2d))\")"
   ]
  },
  {
   "cell_type": "markdown",
   "id": "4218907e",
   "metadata": {},
   "source": [
    "# Problem\n",
    "- We now additionally consider that each robot has a fixed starting source.\n",
    "- The number of robots is less than the number of destinations.\n",
    "- Instead of minimizing the total time / distance, we want to minimize the maximum time / distance for any single robot."
   ]
  },
  {
   "cell_type": "code",
   "execution_count": 26,
   "id": "974acf04",
   "metadata": {},
   "outputs": [
    {
     "name": "stdout",
     "output_type": "stream",
     "text": [
      "There are a 9 destinations but only 4 robots to visit them all.\n"
     ]
    }
   ],
   "source": [
    "S = [2, 1, 1];\n",
    "@assert size(S) == (n_src,)\n",
    "@assert sum(S) < n_dst\n",
    "\n",
    "n_robots = sum(S)\n",
    "all_robots = 1:n_robots;\n",
    "\n",
    "println(\"There are a $n_dst destinations but only $n_robots robots to visit them all.\")"
   ]
  },
  {
   "cell_type": "code",
   "execution_count": 27,
   "id": "87705b45",
   "metadata": {},
   "outputs": [
    {
     "name": "stdout",
     "output_type": "stream",
     "text": [
      "n_steps: 3, all_steps: 1:3, later_steps: 1:2\n"
     ]
    }
   ],
   "source": [
    "# We assume that each robot visits a maximum of n_steps destinations.\n",
    "n_steps = 3;\n",
    "all_steps = 1:n_steps;\n",
    "later_steps = 1:(n_steps-1);\n",
    "\n",
    "println(\"n_steps: $n_steps, all_steps: $all_steps, later_steps: $later_steps\")"
   ]
  },
  {
   "cell_type": "markdown",
   "id": "3c599389",
   "metadata": {},
   "source": [
    "# Minimum Time"
   ]
  },
  {
   "cell_type": "code",
   "execution_count": 28,
   "id": "8038fa03",
   "metadata": {},
   "outputs": [
    {
     "name": "stdout",
     "output_type": "stream",
     "text": [
      "Set parameter Username\n",
      "Academic license - for non-commercial use only - expires 2024-12-07\n",
      "Gurobi Optimizer version 10.0.0 build v10.0.0rc2 (linux64)\n",
      "\n",
      "CPU model: AMD Ryzen 9 4900HS with Radeon Graphics, instruction set [SSE2|AVX|AVX2]\n",
      "Thread count: 8 physical cores, 16 logical processors, using up to 16 threads\n",
      "\n",
      "Optimize a model with 88 rows, 757 columns and 2632 nonzeros\n",
      "Model fingerprint: 0x976e6d5d\n",
      "Variable types: 1 continuous, 756 integer (756 binary)\n",
      "Coefficient statistics:\n",
      "  Matrix range     [1e+00, 5e+01]\n",
      "  Objective range  [1e+00, 1e+00]\n",
      "  Bounds range     [0e+00, 0e+00]\n",
      "  RHS range        [1e+00, 2e+00]\n",
      "Found heuristic solution: objective 106.3848441\n",
      "Presolve time: 0.01s\n",
      "Presolved: 88 rows, 757 columns, 2632 nonzeros\n",
      "Variable types: 1 continuous, 756 integer (756 binary)\n",
      "\n",
      "Root relaxation: objective 1.382540e+01, 127 iterations, 0.00 seconds (0.00 work units)\n",
      "\n",
      "    Nodes    |    Current Node    |     Objective Bounds      |     Work\n",
      " Expl Unexpl |  Obj  Depth IntInf | Incumbent    BestBd   Gap | It/Node Time\n",
      "\n",
      "     0     0   13.82540    0   33  106.38484   13.82540  87.0%     -    0s\n",
      "H    0     0                      76.3892515   13.82540  81.9%     -    0s\n",
      "     0     0   21.17002    0   35   76.38925   21.17002  72.3%     -    0s\n",
      "H    0     0                      58.7183544   21.17002  63.9%     -    0s\n",
      "H    0     0                      55.9921190   21.17002  62.2%     -    0s\n",
      "H    0     0                      44.4753375   24.06256  45.9%     -    0s\n",
      "     0     0   24.06256    0   24   44.47534   24.06256  45.9%     -    0s\n",
      "H    0     0                      43.8437095   24.06256  45.1%     -    0s\n",
      "     0     0   24.06256    0   27   43.84371   24.06256  45.1%     -    0s\n",
      "     0     0   24.06256    0   27   43.84371   24.06256  45.1%     -    0s\n",
      "     0     0   24.06256    0   27   43.84371   24.06256  45.1%     -    0s\n",
      "H    0     0                      39.7469827   24.06256  39.5%     -    0s\n",
      "     0     0   24.06256    0   33   39.74698   24.06256  39.5%     -    0s\n",
      "H    0     0                      39.5253537   24.06256  39.1%     -    0s\n",
      "     0     0   24.06256    0   21   39.52535   24.06256  39.1%     -    0s\n",
      "     0     0   24.06256    0   30   39.52535   24.06256  39.1%     -    0s\n",
      "     0     0   24.32930    0   33   39.52535   24.32930  38.4%     -    0s\n",
      "H    0     0                      36.6369212   24.32930  33.6%     -    0s\n",
      "     0     0   24.38970    0   30   36.63692   24.38970  33.4%     -    0s\n",
      "     0     0   24.38970    0   33   36.63692   24.38970  33.4%     -    0s\n",
      "     0     0   24.38970    0   28   36.63692   24.38970  33.4%     -    0s\n",
      "H    0     0                      32.9272135   24.38970  25.9%     -    0s\n",
      "     0     2   24.59077    0   28   32.92721   24.59077  25.3%     -    0s\n",
      "H   64    37                      32.3048384   25.97408  19.6%  24.5    0s\n",
      "\n",
      "Cutting planes:\n",
      "  Gomory: 12\n",
      "  Cover: 3\n",
      "  MIR: 2\n",
      "  Inf proof: 3\n",
      "  Zero half: 5\n",
      "\n",
      "Explored 256 nodes (5541 simplex iterations) in 0.32 seconds (0.18 work units)\n",
      "Thread count was 16 (of 16 available processors)\n",
      "\n",
      "Solution count 10: 32.3048 32.9272 36.6369 ... 76.3893\n",
      "\n",
      "Optimal solution found (tolerance 1.00e-04)\n",
      "Best objective 3.230483839574e+01, best bound 3.230483839574e+01, gap 0.0000%\n",
      "\n",
      "User-callback calls 885, time in user-callback 0.00 sec\n"
     ]
    },
    {
     "data": {
      "text/plain": [
       "* Solver : Gurobi\n",
       "\n",
       "* Status\n",
       "  Result count       : 10\n",
       "  Termination status : OPTIMAL\n",
       "  Message from the solver:\n",
       "  \"Model was solved to optimality (subject to tolerances), and an optimal solution is available.\"\n",
       "\n",
       "* Candidate solution (result #1)\n",
       "  Primal status      : FEASIBLE_POINT\n",
       "  Dual status        : NO_SOLUTION\n",
       "  Objective value    : 3.23048e+01\n",
       "  Objective bound    : 3.23048e+01\n",
       "  Relative gap       : 0.00000e+00\n",
       "  Dual objective value : 3.23048e+01\n",
       "\n",
       "* Work counters\n",
       "  Solve time (sec)   : 3.15875e-01\n",
       "  Barrier iterations : 0\n",
       "  Node count         : 256\n"
      ]
     },
     "execution_count": 28,
     "metadata": {},
     "output_type": "execute_result"
    }
   ],
   "source": [
    "model1 = Model(Gurobi.Optimizer)\n",
    "\n",
    "@variable(model1, x0[all_robots, all_src, all_dst] >= 0, Bin);\n",
    "@variable(model1, x1[all_robots, later_steps, all_dst, all_dst] >= 0, Bin);\n",
    "@variable(model1, maxtime >= 0);\n",
    "\n",
    "time_fromsrc = [sum(sum(T_s2d[ii, jj] * x0[rr, ii, jj] for ii in all_src) for jj in all_dst) for rr in all_robots];\n",
    "time_fromdst = [sum(sum(sum(T_d2d[ii, jj] * x1[rr, kk, ii, jj] for ii in all_dst) for jj in all_dst) for kk in later_steps) for rr in all_robots];\n",
    "time_total = [time_fromsrc[rr] + time_fromdst[rr] for rr in all_robots];\n",
    "\n",
    "@objective(model1, Min, maxtime);\n",
    "\n",
    "# The max time is larger than the times for each robot.\n",
    "@constraint(model1, maxtimelb[rr in all_robots], maxtime >= time_total[rr]);\n",
    "\n",
    "# Each destination must be served by at least one source.\n",
    "@constraint(model1, demand[jj in all_dst], sum(sum(x0[rr, ii, jj] for ii in all_src) for rr in all_robots) + sum(sum(sum(x1[rr, kk, ii, jj] for ii in all_dst) for kk in later_steps) for rr in all_robots) >= 1);\n",
    "\n",
    "# Continuity constraints. x0_{r, ij} = x1_{r, jl}\n",
    "@constraint(model1, cont0[rr in all_robots, jj in all_dst], sum(x0[rr, ii, jj] for ii in all_src) == sum(x1[rr, 1, jj, ll] for ll in all_dst));\n",
    "# Continuity constraints. x1_{r, ij} = x2_{r, jl}\n",
    "@constraint(model1, cont1[rr in all_robots, kk in 1:(n_steps-2), jj in all_dst], sum(x1[rr, kk, ii, jj] for ii in all_dst) == sum(x1[rr, kk + 1, jj, ll] for ll in all_dst));\n",
    "\n",
    "# Each robot must start from its assigned source.\n",
    "@constraint(model1, start[ii in all_src], sum(sum(x0[rr, ii, jj] for jj in all_dst) for rr in all_robots) == S[ii]);\n",
    "\n",
    "# Solve.\n",
    "optimize!(model1);\n",
    "solution_summary(model1)"
   ]
  },
  {
   "cell_type": "code",
   "execution_count": 29,
   "id": "bd37195a",
   "metadata": {},
   "outputs": [],
   "source": [
    "# Save solution.\n",
    "x1_0 = Array(value.(x0));\n",
    "x1_1 = Array(value.(x1));\n",
    "\n",
    "npzwrite(\"sols/problem4_time.npz\", Dict(\"x0\" => x1_0, \"x1\" => x1_1, \"objective\" => objective_value(model1)))"
   ]
  },
  {
   "cell_type": "markdown",
   "id": "72341de3",
   "metadata": {},
   "source": [
    "# Minimum Distance"
   ]
  },
  {
   "cell_type": "code",
   "execution_count": 30,
   "id": "b300bacd",
   "metadata": {},
   "outputs": [
    {
     "name": "stdout",
     "output_type": "stream",
     "text": [
      "Set parameter Username\n",
      "Academic license - for non-commercial use only - expires 2024-12-07\n",
      "Gurobi Optimizer version 10.0.0 build v10.0.0rc2 (linux64)\n",
      "\n",
      "CPU model: AMD Ryzen 9 4900HS with Radeon Graphics, instruction set [SSE2|AVX|AVX2]\n",
      "Thread count: 8 physical cores, 16 logical processors, using up to 16 threads\n",
      "\n",
      "Optimize a model with 88 rows, 757 columns and 2632 nonzeros\n",
      "Model fingerprint: 0xb1e804aa\n",
      "Variable types: 1 continuous, 756 integer (756 binary)\n",
      "Coefficient statistics:\n",
      "  Matrix range     [3e-01, 5e+00]\n",
      "  Objective range  [1e+00, 1e+00]\n",
      "  Bounds range     [0e+00, 0e+00]\n",
      "  RHS range        [1e+00, 2e+00]\n",
      "Found heuristic solution: objective 11.2678852\n",
      "Presolve time: 0.01s\n",
      "Presolved: 88 rows, 757 columns, 2632 nonzeros\n",
      "Variable types: 1 continuous, 756 integer (756 binary)\n",
      "\n",
      "Root relaxation: objective 1.466691e+00, 203 iterations, 0.00 seconds (0.00 work units)\n",
      "\n",
      "    Nodes    |    Current Node    |     Objective Bounds      |     Work\n",
      " Expl Unexpl |  Obj  Depth IntInf | Incumbent    BestBd   Gap | It/Node Time\n",
      "\n",
      "     0     0    1.46669    0   33   11.26789    1.46669  87.0%     -    0s\n",
      "H    0     0                       9.4737655    1.46669  84.5%     -    0s\n",
      "     0     0    2.05632    0   33    9.47377    2.05632  78.3%     -    0s\n",
      "H    0     0                       7.3823127    2.05632  72.1%     -    0s\n",
      "H    0     0                       7.2254903    2.40481  66.7%     -    0s\n",
      "     0     0    2.40481    0   30    7.22549    2.40481  66.7%     -    0s\n",
      "H    0     0                       6.1832574    2.40481  61.1%     -    0s\n",
      "H    0     0                       5.7835179    2.40481  58.4%     -    0s\n",
      "     0     0    2.40481    0   30    5.78352    2.40481  58.4%     -    0s\n",
      "     0     0    2.40481    0   26    5.78352    2.40481  58.4%     -    0s\n",
      "H    0     0                       4.7354947    2.40481  49.2%     -    0s\n",
      "H    0     0                       4.4664063    2.40481  46.2%     -    0s\n",
      "H    0     0                       4.1785537    2.40481  42.4%     -    0s\n",
      "     0     0    2.40481    0   33    4.17855    2.40481  42.4%     -    0s\n",
      "H    0     0                       3.9890124    2.40481  39.7%     -    0s\n",
      "     0     0    2.46876    0   35    3.98901    2.46876  38.1%     -    0s\n",
      "H    0     0                       3.7079880    2.46876  33.4%     -    0s\n",
      "     0     0    2.46876    0   35    3.70799    2.46876  33.4%     -    0s\n",
      "     0     0    2.56465    0   26    3.70799    2.56465  30.8%     -    0s\n",
      "     0     0    2.56521    0   43    3.70799    2.56521  30.8%     -    0s\n",
      "     0     0    2.56521    0   37    3.70799    2.56521  30.8%     -    0s\n",
      "     0     0    2.56521    0   34    3.70799    2.56521  30.8%     -    0s\n",
      "H    0     0                       3.5243554    2.56521  27.2%     -    0s\n",
      "     0     1    2.58421    0   27    3.52436    2.58421  26.7%     -    0s\n",
      "H   62    21                       3.4240781    2.82091  17.6%  24.8    0s\n",
      "\n",
      "Cutting planes:\n",
      "  Gomory: 8\n",
      "  Cover: 1\n",
      "  Clique: 11\n",
      "  MIR: 4\n",
      "  Zero half: 5\n",
      "  Mod-K: 1\n",
      "  RLT: 2\n",
      "\n",
      "Explored 197 nodes (4759 simplex iterations) in 0.30 seconds (0.18 work units)\n",
      "Thread count was 16 (of 16 available processors)\n",
      "\n",
      "Solution count 10: 3.42408 3.52436 3.70799 ... 7.22549\n",
      "\n",
      "Optimal solution found (tolerance 1.00e-04)\n",
      "Best objective 3.424078076332e+00, best bound 3.424078076332e+00, gap 0.0000%\n",
      "\n",
      "User-callback calls 754, time in user-callback 0.00 sec\n"
     ]
    },
    {
     "data": {
      "text/plain": [
       "* Solver : Gurobi\n",
       "\n",
       "* Status\n",
       "  Result count       : 10\n",
       "  Termination status : OPTIMAL\n",
       "  Message from the solver:\n",
       "  \"Model was solved to optimality (subject to tolerances), and an optimal solution is available.\"\n",
       "\n",
       "* Candidate solution (result #1)\n",
       "  Primal status      : FEASIBLE_POINT\n",
       "  Dual status        : NO_SOLUTION\n",
       "  Objective value    : 3.42408e+00\n",
       "  Objective bound    : 3.42408e+00\n",
       "  Relative gap       : 0.00000e+00\n",
       "  Dual objective value : 3.42408e+00\n",
       "\n",
       "* Work counters\n",
       "  Solve time (sec)   : 2.99309e-01\n",
       "  Barrier iterations : 0\n",
       "  Node count         : 197\n"
      ]
     },
     "execution_count": 30,
     "metadata": {},
     "output_type": "execute_result"
    }
   ],
   "source": [
    "model2 = Model(Gurobi.Optimizer)\n",
    "\n",
    "@variable(model2, x0[all_robots, all_src, all_dst] >= 0, Bin);\n",
    "@variable(model2, x1[all_robots, later_steps, all_dst, all_dst] >= 0, Bin);\n",
    "@variable(model2, maxdist >= 0);\n",
    "\n",
    "dist_fromsrc = [sum(sum(L_s2d[ii, jj] * x0[rr, ii, jj] for ii in all_src) for jj in all_dst) for rr in all_robots];\n",
    "dist_fromdst = [sum(sum(sum(L_d2d[ii, jj] * x1[rr, kk, ii, jj] for ii in all_dst) for jj in all_dst) for kk in later_steps) for rr in all_robots];\n",
    "dist_total = [dist_fromsrc[rr] + dist_fromdst[rr] for rr in all_robots];\n",
    "\n",
    "@objective(model2, Min, maxdist);\n",
    "\n",
    "# The max dist is larger than the dists for each robot.\n",
    "@constraint(model2, maxdistlb[rr in all_robots], maxdist >= dist_total[rr]);\n",
    "\n",
    "# Each destination must be served by at least one source.\n",
    "@constraint(model2, demand[jj in all_dst], sum(sum(x0[rr, ii, jj] for ii in all_src) for rr in all_robots) + sum(sum(sum(x1[rr, kk, ii, jj] for ii in all_dst) for kk in later_steps) for rr in all_robots) >= 1);\n",
    "\n",
    "# Continuity constraints. x0_{r, ij} = x1_{r, jl}\n",
    "@constraint(model2, cont0[rr in all_robots, jj in all_dst], sum(x0[rr, ii, jj] for ii in all_src) == sum(x1[rr, 1, jj, ll] for ll in all_dst));\n",
    "# Continuity constraints. x1_{r, ij} = x2_{r, jl}\n",
    "@constraint(model2, cont1[rr in all_robots, kk in 1:(n_steps-2), jj in all_dst], sum(x1[rr, kk, ii, jj] for ii in all_dst) == sum(x1[rr, kk + 1, jj, ll] for ll in all_dst));\n",
    "\n",
    "# Each robot must start from its assigned source.\n",
    "@constraint(model2, start[ii in all_src], sum(sum(x0[rr, ii, jj] for jj in all_dst) for rr in all_robots) == S[ii]);\n",
    "\n",
    "# Solve.\n",
    "optimize!(model2);\n",
    "solution_summary(model2)"
   ]
  },
  {
   "cell_type": "code",
   "execution_count": 31,
   "id": "8ac455a0",
   "metadata": {},
   "outputs": [],
   "source": [
    "# Save solution.\n",
    "x2_0 = Array(value.(x0));\n",
    "x2_1 = Array(value.(x1));\n",
    "\n",
    "npzwrite(\"sols/problem4_dist.npz\", Dict(\"x0\" => x2_0, \"x1\" => x2_1, \"objective\" => objective_value(model2)))"
   ]
  },
  {
   "cell_type": "markdown",
   "id": "8045d57c",
   "metadata": {},
   "source": [
    "# Compare the solutions."
   ]
  },
  {
   "cell_type": "code",
   "execution_count": 32,
   "id": "60a8839a",
   "metadata": {},
   "outputs": [
    {
     "data": {
      "text/plain": [
       "0.0"
      ]
     },
     "metadata": {},
     "output_type": "display_data"
    },
    {
     "data": {
      "text/plain": [
       "0.0"
      ]
     },
     "metadata": {},
     "output_type": "display_data"
    }
   ],
   "source": [
    "display(sum(sum(sum(x1_0 - x2_0))))\n",
    "display(sum(sum(sum(x1_1 - x2_1))))"
   ]
  }
 ],
 "metadata": {
  "kernelspec": {
   "display_name": "Julia 1.9.3",
   "language": "julia",
   "name": "julia-1.9"
  },
  "language_info": {
   "file_extension": ".jl",
   "mimetype": "application/julia",
   "name": "julia",
   "version": "1.9.3"
  }
 },
 "nbformat": 4,
 "nbformat_minor": 5
}
