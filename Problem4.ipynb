{
 "cells": [
  {
   "cell_type": "code",
   "execution_count": null,
   "id": "76e15520",
   "metadata": {},
   "outputs": [],
   "source": [
    "using CSV, DataFrames, JuMP, Gurobi, Formatting, NPZ"
   ]
  },
  {
   "cell_type": "code",
   "execution_count": null,
   "id": "07832d62",
   "metadata": {},
   "outputs": [
    {
     "name": "stderr",
     "output_type": "stream",
     "text": [
      "\u001b[32m\u001b[1m    Updating\u001b[22m\u001b[39m registry at `~/.julia/registries/General.toml`\n",
      "\u001b[32m\u001b[1m   Resolving\u001b[22m\u001b[39m package versions...\n",
      "\u001b[32m\u001b[1m   Installed\u001b[22m\u001b[39m Bzip2_jll ──────────── v1.0.8+0\n",
      "\u001b[32m\u001b[1m   Installed\u001b[22m\u001b[39m CodecBzip2 ─────────── v0.8.1\n",
      "\u001b[32m\u001b[1m   Installed\u001b[22m\u001b[39m DiffRules ──────────── v1.15.1\n",
      "\u001b[32m\u001b[1m   Installed\u001b[22m\u001b[39m DiffResults ────────── v1.1.0\n",
      "\u001b[32m\u001b[1m   Installed\u001b[22m\u001b[39m MutableArithmetics ─── v1.4.0\n",
      "\u001b[32m\u001b[1m   Installed\u001b[22m\u001b[39m SpecialFunctions ───── v2.3.1\n",
      "\u001b[32m\u001b[1m   Installed\u001b[22m\u001b[39m BenchmarkTools ─────── v1.4.0\n",
      "\u001b[32m\u001b[1m   Installed\u001b[22m\u001b[39m NaNMath ────────────── v1.0.2\n",
      "\u001b[32m\u001b[1m   Installed\u001b[22m\u001b[39m StaticArraysCore ───── v1.4.2\n",
      "\u001b[32m\u001b[1m   Installed\u001b[22m\u001b[39m SnoopPrecompile ────── v1.0.3\n",
      "\u001b[32m\u001b[1m   Installed\u001b[22m\u001b[39m ForwardDiff ────────── v0.10.36\n",
      "\u001b[32m\u001b[1m   Installed\u001b[22m\u001b[39m CommonSubexpressions ─ v0.3.0\n",
      "\u001b[32m\u001b[1m   Installed\u001b[22m\u001b[39m LogExpFunctions ────── v0.3.26\n",
      "\u001b[32m\u001b[1m   Installed\u001b[22m\u001b[39m OpenSpecFun_jll ────── v0.5.5+0\n",
      "\u001b[32m\u001b[1m   Installed\u001b[22m\u001b[39m MacroTools ─────────── v0.5.11\n",
      "\u001b[32m\u001b[1m   Installed\u001b[22m\u001b[39m DocStringExtensions ── v0.9.3\n",
      "\u001b[32m\u001b[1m   Installed\u001b[22m\u001b[39m IrrationalConstants ── v0.2.2\n",
      "\u001b[32m\u001b[1m   Installed\u001b[22m\u001b[39m MathOptInterface ───── v1.23.0\n",
      "\u001b[32m\u001b[1m   Installed\u001b[22m\u001b[39m JuMP ───────────────── v1.17.0\n",
      "\u001b[32m\u001b[1m    Updating\u001b[22m\u001b[39m `~/.julia/environments/v1.9/Project.toml`\n",
      "  \u001b[90m[4076af6c] \u001b[39m\u001b[92m+ JuMP v1.17.0\u001b[39m\n",
      "\u001b[32m\u001b[1m    Updating\u001b[22m\u001b[39m `~/.julia/environments/v1.9/Manifest.toml`\n",
      "  \u001b[90m[6e4b80f9] \u001b[39m\u001b[92m+ BenchmarkTools v1.4.0\u001b[39m\n",
      "  \u001b[90m[523fee87] \u001b[39m\u001b[92m+ CodecBzip2 v0.8.1\u001b[39m\n",
      "  \u001b[90m[bbf7d656] \u001b[39m\u001b[92m+ CommonSubexpressions v0.3.0\u001b[39m\n",
      "  \u001b[90m[163ba53b] \u001b[39m\u001b[92m+ DiffResults v1.1.0\u001b[39m\n",
      "  \u001b[90m[b552c78f] \u001b[39m\u001b[92m+ DiffRules v1.15.1\u001b[39m\n",
      "  \u001b[90m[ffbed154] \u001b[39m\u001b[92m+ DocStringExtensions v0.9.3\u001b[39m\n",
      "  \u001b[90m[f6369f11] \u001b[39m\u001b[92m+ ForwardDiff v0.10.36\u001b[39m\n",
      "  \u001b[90m[92d709cd] \u001b[39m\u001b[92m+ IrrationalConstants v0.2.2\u001b[39m\n",
      "  \u001b[90m[4076af6c] \u001b[39m\u001b[92m+ JuMP v1.17.0\u001b[39m\n",
      "  \u001b[90m[2ab3a3ac] \u001b[39m\u001b[92m+ LogExpFunctions v0.3.26\u001b[39m\n",
      "  \u001b[90m[1914dd2f] \u001b[39m\u001b[92m+ MacroTools v0.5.11\u001b[39m\n",
      "  \u001b[90m[b8f27783] \u001b[39m\u001b[92m+ MathOptInterface v1.23.0\u001b[39m\n",
      "  \u001b[90m[d8a4904e] \u001b[39m\u001b[92m+ MutableArithmetics v1.4.0\u001b[39m\n",
      "  \u001b[90m[77ba4419] \u001b[39m\u001b[92m+ NaNMath v1.0.2\u001b[39m\n",
      "  \u001b[90m[66db9d55] \u001b[39m\u001b[92m+ SnoopPrecompile v1.0.3\u001b[39m\n",
      "  \u001b[90m[276daf66] \u001b[39m\u001b[92m+ SpecialFunctions v2.3.1\u001b[39m\n",
      "  \u001b[90m[1e83bf80] \u001b[39m\u001b[92m+ StaticArraysCore v1.4.2\u001b[39m\n",
      "  \u001b[90m[6e34b625] \u001b[39m\u001b[92m+ Bzip2_jll v1.0.8+0\u001b[39m\n",
      "  \u001b[90m[efe28fd5] \u001b[39m\u001b[92m+ OpenSpecFun_jll v0.5.5+0\u001b[39m\n",
      "  \u001b[90m[9abbd945] \u001b[39m\u001b[92m+ Profile\u001b[39m\n",
      "  \u001b[90m[05823500] \u001b[39m\u001b[92m+ OpenLibm_jll v0.8.1+0\u001b[39m\n",
      "\u001b[32m\u001b[1mPrecompiling\u001b[22m\u001b[39m project...\n",
      "\u001b[32m  ✓ \u001b[39m\u001b[90mStaticArraysCore\u001b[39m\n",
      "\u001b[32m  ✓ \u001b[39m\u001b[90mNaNMath\u001b[39m\n",
      "\u001b[32m  ✓ \u001b[39m\u001b[90mSnoopPrecompile\u001b[39m\n",
      "\u001b[32m  ✓ \u001b[39m\u001b[90mBzip2_jll\u001b[39m\n",
      "\u001b[32m  ✓ \u001b[39m\u001b[90mDocStringExtensions\u001b[39m\n",
      "\u001b[32m  ✓ \u001b[39m\u001b[90mOpenSpecFun_jll\u001b[39m\n",
      "\u001b[32m  ✓ \u001b[39m\u001b[90mDiffResults\u001b[39m\n",
      "\u001b[32m  ✓ \u001b[39m\u001b[90mCodecBzip2\u001b[39m\n",
      "\u001b[32m  ✓ \u001b[39m\u001b[90mBenchmarkTools\u001b[39m\n",
      "\u001b[32m  ✓ \u001b[39m\u001b[90mIrrationalConstants\u001b[39m\n",
      "\u001b[32m  ✓ \u001b[39m\u001b[90mLogExpFunctions\u001b[39m\n",
      "\u001b[32m  ✓ \u001b[39m\u001b[90mMacroTools\u001b[39m\n",
      "\u001b[32m  ✓ \u001b[39m\u001b[90mCommonSubexpressions\u001b[39m\n",
      "\u001b[32m  ✓ \u001b[39m\u001b[90mSpecialFunctions\u001b[39m\n",
      "\u001b[32m  ✓ \u001b[39m\u001b[90mDiffRules\u001b[39m\n",
      "\u001b[32m  ✓ \u001b[39m\u001b[90mMutableArithmetics\u001b[39m\n",
      "\u001b[32m  ✓ \u001b[39m\u001b[90mForwardDiff\u001b[39m\n",
      "\u001b[32m  ✓ \u001b[39m\u001b[90mMathOptInterface\u001b[39m\n"
     ]
    }
   ],
   "source": [
    "import Pkg;\n",
    "Pkg.add(\"JuMP\")\n",
    "Pkg.add(\"Gurobi\")\n",
    "Pkg.add(\"Formatting\")\n",
    "Pkg.add(\"NPZ\")"
   ]
  },
  {
   "cell_type": "markdown",
   "id": "f280639e",
   "metadata": {},
   "source": [
    "# Loading Data"
   ]
  },
  {
   "cell_type": "code",
   "execution_count": null,
   "id": "744d8235",
   "metadata": {},
   "outputs": [],
   "source": [
    "time_s2d_df = CSV.read(\"csv/time_srcs_to_dests.csv\", DataFrame, header=false);\n",
    "length_s2d_df = CSV.read(\"csv/length_srcs_to_dests.csv\", DataFrame, header=false);\n",
    "\n",
    "time_d2d_df = CSV.read(\"csv/time_dests_to_dests.csv\", DataFrame, header=false);\n",
    "length_d2d_df = CSV.read(\"csv/length_dests_to_dests.csv\", DataFrame, header=false);"
   ]
  },
  {
   "cell_type": "code",
   "execution_count": null,
   "id": "bc953876",
   "metadata": {},
   "outputs": [],
   "source": [
    "first(time_d2d_df, 2)"
   ]
  },
  {
   "cell_type": "code",
   "execution_count": 27,
   "id": "d53d7121",
   "metadata": {},
   "outputs": [
    {
     "data": {
      "text/html": [
       "<div><div style = \"float: left;\"><span>2×9 DataFrame</span></div><div style = \"clear: both;\"></div></div><div class = \"data-frame\" style = \"overflow-x: scroll;\"><table class = \"data-frame\" style = \"margin-bottom: 6px;\"><thead><tr class = \"header\"><th class = \"rowNumber\" style = \"font-weight: bold; text-align: right;\">Row</th><th style = \"text-align: left;\">Column1</th><th style = \"text-align: left;\">Column2</th><th style = \"text-align: left;\">Column3</th><th style = \"text-align: left;\">Column4</th><th style = \"text-align: left;\">Column5</th><th style = \"text-align: left;\">Column6</th><th style = \"text-align: left;\">Column7</th><th style = \"text-align: left;\">Column8</th><th style = \"text-align: left;\">Column9</th></tr><tr class = \"subheader headerLastRow\"><th class = \"rowNumber\" style = \"font-weight: bold; text-align: right;\"></th><th title = \"Float64\" style = \"text-align: left;\">Float64</th><th title = \"Float64\" style = \"text-align: left;\">Float64</th><th title = \"Float64\" style = \"text-align: left;\">Float64</th><th title = \"Float64\" style = \"text-align: left;\">Float64</th><th title = \"Float64\" style = \"text-align: left;\">Float64</th><th title = \"Float64\" style = \"text-align: left;\">Float64</th><th title = \"Float64\" style = \"text-align: left;\">Float64</th><th title = \"Float64\" style = \"text-align: left;\">Float64</th><th title = \"Float64\" style = \"text-align: left;\">Float64</th></tr></thead><tbody><tr><td class = \"rowNumber\" style = \"font-weight: bold; text-align: right;\">1</td><td style = \"text-align: right;\">0.0</td><td style = \"text-align: right;\">5.36814</td><td style = \"text-align: right;\">3.37471</td><td style = \"text-align: right;\">2.9547</td><td style = \"text-align: right;\">2.86724</td><td style = \"text-align: right;\">2.34539</td><td style = \"text-align: right;\">2.84076</td><td style = \"text-align: right;\">2.55595</td><td style = \"text-align: right;\">2.59004</td></tr><tr><td class = \"rowNumber\" style = \"font-weight: bold; text-align: right;\">2</td><td style = \"text-align: right;\">5.36814</td><td style = \"text-align: right;\">0.0</td><td style = \"text-align: right;\">2.32505</td><td style = \"text-align: right;\">4.58539</td><td style = \"text-align: right;\">4.39593</td><td style = \"text-align: right;\">3.89126</td><td style = \"text-align: right;\">2.74863</td><td style = \"text-align: right;\">4.30058</td><td style = \"text-align: right;\">4.2832</td></tr></tbody></table></div>"
      ],
      "text/latex": [
       "\\begin{tabular}{r|ccccccccc}\n",
       "\t& Column1 & Column2 & Column3 & Column4 & Column5 & Column6 & Column7 & Column8 & Column9\\\\\n",
       "\t\\hline\n",
       "\t& Float64 & Float64 & Float64 & Float64 & Float64 & Float64 & Float64 & Float64 & Float64\\\\\n",
       "\t\\hline\n",
       "\t1 & 0.0 & 5.36814 & 3.37471 & 2.9547 & 2.86724 & 2.34539 & 2.84076 & 2.55595 & 2.59004 \\\\\n",
       "\t2 & 5.36814 & 0.0 & 2.32505 & 4.58539 & 4.39593 & 3.89126 & 2.74863 & 4.30058 & 4.2832 \\\\\n",
       "\\end{tabular}\n"
      ],
      "text/plain": [
       "\u001b[1m2×9 DataFrame\u001b[0m\n",
       "\u001b[1m Row \u001b[0m│\u001b[1m Column1 \u001b[0m\u001b[1m Column2 \u001b[0m\u001b[1m Column3 \u001b[0m\u001b[1m Column4 \u001b[0m\u001b[1m Column5 \u001b[0m\u001b[1m Column6 \u001b[0m\u001b[1m Column7 \u001b[0m\u001b[1m Column8 \u001b[0m\u001b[1m\u001b[0m ⋯\n",
       "     │\u001b[90m Float64 \u001b[0m\u001b[90m Float64 \u001b[0m\u001b[90m Float64 \u001b[0m\u001b[90m Float64 \u001b[0m\u001b[90m Float64 \u001b[0m\u001b[90m Float64 \u001b[0m\u001b[90m Float64 \u001b[0m\u001b[90m Float64 \u001b[0m\u001b[90m\u001b[0m ⋯\n",
       "─────┼──────────────────────────────────────────────────────────────────────────\n",
       "   1 │ 0.0      5.36814  3.37471  2.9547   2.86724  2.34539  2.84076  2.55595  ⋯\n",
       "   2 │ 5.36814  0.0      2.32505  4.58539  4.39593  3.89126  2.74863  4.30058\n",
       "\u001b[36m                                                                1 column omitted\u001b[0m"
      ]
     },
     "metadata": {},
     "output_type": "display_data"
    }
   ],
   "source": [
    "first(length_d2d_df, 2)"
   ]
  },
  {
   "cell_type": "code",
   "execution_count": 28,
   "id": "bb1586b3",
   "metadata": {},
   "outputs": [
    {
     "name": "stdout",
     "output_type": "stream",
     "text": [
      "all_src: 1:3, all_dst: 1:9\n"
     ]
    }
   ],
   "source": [
    "n_src = nrow(time_s2d_df);\n",
    "n_dst = ncol(time_s2d_df);\n",
    "\n",
    "all_src = 1:n_src;\n",
    "all_dst = 1:n_dst;\n",
    "\n",
    "println(\"all_src: $all_src, all_dst: $all_dst\")"
   ]
  },
  {
   "cell_type": "code",
   "execution_count": 29,
   "id": "5ba4951d",
   "metadata": {},
   "outputs": [
    {
     "name": "stdout",
     "output_type": "stream",
     "text": [
      "T_s2d: (3, 9), L_s2d: (3, 9), T_d2d: (9, 9), L_d2d: (9, 9)\n"
     ]
    }
   ],
   "source": [
    "T_s2d = Matrix(time_s2d_df);\n",
    "L_s2d = Matrix(length_s2d_df);\n",
    "T_d2d = Matrix(time_d2d_df);\n",
    "L_d2d = Matrix(length_d2d_df);\n",
    "\n",
    "println(\"T_s2d: $(size(T_s2d)), L_s2d: $(size(L_s2d)), T_d2d: $(size(T_d2d)), L_d2d: $(size(L_d2d))\")"
   ]
  },
  {
   "cell_type": "markdown",
   "id": "4218907e",
   "metadata": {},
   "source": [
    "# Problem\n",
    "- We now additionally consider that each robot has a fixed starting source.\n",
    "- The number of robots is less than the number of destinations.\n",
    "- Instead of minimizing the total time / distance, we want to minimize the maximum time / distance for any single robot."
   ]
  },
  {
   "cell_type": "code",
   "execution_count": 30,
   "id": "974acf04",
   "metadata": {},
   "outputs": [
    {
     "name": "stdout",
     "output_type": "stream",
     "text": [
      "There are a 9 destinations but only 4 robots to visit them all.\n"
     ]
    }
   ],
   "source": [
    "S = [2, 1, 1];\n",
    "@assert size(S) == (n_src,)\n",
    "@assert sum(S) < n_dst\n",
    "\n",
    "n_robots = sum(S)\n",
    "all_robots = 1:n_robots;\n",
    "\n",
    "println(\"There are a $n_dst destinations but only $n_robots robots to visit them all.\")"
   ]
  },
  {
   "cell_type": "code",
   "execution_count": 31,
   "id": "87705b45",
   "metadata": {},
   "outputs": [
    {
     "name": "stdout",
     "output_type": "stream",
     "text": [
      "n_steps: 3, all_steps: 1:3, later_steps: 1:2\n"
     ]
    }
   ],
   "source": [
    "# We assume that each robot visits a maximum of n_steps destinations.\n",
    "n_steps = 3;\n",
    "all_steps = 1:n_steps;\n",
    "later_steps = 1:(n_steps-1);\n",
    "\n",
    "println(\"n_steps: $n_steps, all_steps: $all_steps, later_steps: $later_steps\")"
   ]
  },
  {
   "cell_type": "markdown",
   "id": "3c599389",
   "metadata": {},
   "source": [
    "# Minimum Time"
   ]
  },
  {
   "cell_type": "code",
   "execution_count": 32,
   "id": "8038fa03",
   "metadata": {},
   "outputs": [
    {
     "name": "stdout",
     "output_type": "stream",
     "text": [
      "Set parameter Username\n",
      "Academic license - for non-commercial use only - expires 2024-09-19\n",
      "Gurobi Optimizer version 10.0.0 build v10.0.0rc2 (linux64)\n",
      "\n",
      "CPU model: AMD Ryzen 9 3950X 16-Core Processor, instruction set [SSE2|AVX|AVX2]\n",
      "Thread count: 16 physical cores, 32 logical processors, using up to 32 threads\n",
      "\n",
      "Optimize a model with 34 rows, 757 columns and 2632 nonzeros\n",
      "Model fingerprint: 0x0aa4b3a0\n",
      "Variable types: 1 continuous, 756 integer (756 binary)\n",
      "Coefficient statistics:\n",
      "  Matrix range     [1e+00, 5e+01]\n",
      "  Objective range  [1e+00, 1e+00]\n",
      "  Bounds range     [0e+00, 0e+00]\n",
      "  RHS range        [1e+00, 2e+00]\n",
      "Found heuristic solution: objective 111.5939925\n",
      "Presolve removed 0 rows and 54 columns\n",
      "Presolve time: 0.00s\n",
      "Presolved: 34 rows, 703 columns, 2497 nonzeros\n",
      "Variable types: 1 continuous, 702 integer (684 binary)\n",
      "\n",
      "Root relaxation: objective 1.382540e+01, 41 iterations, 0.00 seconds (0.00 work units)\n",
      "\n",
      "    Nodes    |    Current Node    |     Objective Bounds      |     Work\n",
      " Expl Unexpl |  Obj  Depth IntInf | Incumbent    BestBd   Gap | It/Node Time\n",
      "\n",
      "     0     0   13.82540    0   27  111.59399   13.82540  87.6%     -    0s\n",
      "H    0     0                      76.8274725   13.82540  82.0%     -    0s\n",
      "H    0     0                      49.1225347   13.82540  71.9%     -    0s\n",
      "H    0     0                      47.5266002   13.82540  70.9%     -    0s\n",
      "H    0     0                      36.6894172   13.82540  62.3%     -    0s\n",
      "     0     0   24.06256    0   14   36.68942   24.06256  34.4%     -    0s\n",
      "H    0     0                      27.8651954   24.06256  13.6%     -    0s\n",
      "     0     0   24.21999    0   22   27.86520   24.21999  13.1%     -    0s\n",
      "     0     0   24.69229    0    6   27.86520   24.69229  11.4%     -    0s\n",
      "     0     0   24.69229    0   27   27.86520   24.69229  11.4%     -    0s\n",
      "     0     0   24.69229    0   19   27.86520   24.69229  11.4%     -    0s\n",
      "H    0     0                      26.6976539   24.69229  7.51%     -    0s\n",
      "     0     0   24.69229    0    4   26.69765   24.69229  7.51%     -    0s\n",
      "     0     0   24.69229    0    9   26.69765   24.69229  7.51%     -    0s\n",
      "     0     0   24.69229    0   27   26.69765   24.69229  7.51%     -    0s\n",
      "     0     0   24.69229    0    4   26.69765   24.69229  7.51%     -    0s\n",
      "H    0     0                      26.1711193   24.69229  5.65%     -    0s\n",
      "H    0     0                      26.0161969   24.69229  5.09%     -    0s\n",
      "     0     0   24.69229    0    8   26.01620   24.69229  5.09%     -    0s\n",
      "     0     0   24.69229    0   13   26.01620   24.69229  5.09%     -    0s\n",
      "     0     0   24.69229    0   23   26.01620   24.69229  5.09%     -    0s\n",
      "     0     0   24.69229    0    5   26.01620   24.69229  5.09%     -    0s\n",
      "     0     0   24.69229    0    7   26.01620   24.69229  5.09%     -    0s\n",
      "     0     0   24.69229    0   11   26.01620   24.69229  5.09%     -    0s\n",
      "     0     0   24.69229    0   13   26.01620   24.69229  5.09%     -    0s\n",
      "     0     0   24.69229    0    7   26.01620   24.69229  5.09%     -    0s\n",
      "     0     0   24.69229    0    6   26.01620   24.69229  5.09%     -    0s\n",
      "     0     0   24.69229    0   12   26.01620   24.69229  5.09%     -    0s\n",
      "     0     0   25.14080    0   13   26.01620   25.14080  3.36%     -    0s\n",
      "     0     0   25.14080    0   10   26.01620   25.14080  3.36%     -    0s\n",
      "     0     0   25.14080    0    8   26.01620   25.14080  3.36%     -    0s\n",
      "     0     0   25.15253    0   14   26.01620   25.15253  3.32%     -    0s\n",
      "     0     0   26.01620    0   10   26.01620   26.01620  0.00%     -    0s\n",
      "\n",
      "Cutting planes:\n",
      "  Gomory: 5\n",
      "  Cover: 8\n",
      "  Clique: 2\n",
      "  MIR: 9\n",
      "  StrongCG: 2\n",
      "  RLT: 1\n",
      "  Relax-and-lift: 1\n",
      "\n",
      "Explored 1 nodes (782 simplex iterations) in 0.09 seconds (0.05 work units)\n",
      "Thread count was 32 (of 32 available processors)\n",
      "\n",
      "Solution count 9: 26.0162 26.1711 26.6977 ... 111.594\n",
      "\n",
      "Optimal solution found (tolerance 1.00e-04)\n",
      "Best objective 2.601619694036e+01, best bound 2.601619694036e+01, gap 0.0000%\n",
      "\n",
      "User-callback calls 384, time in user-callback 0.00 sec\n"
     ]
    },
    {
     "data": {
      "text/plain": [
       "* Solver : Gurobi\n",
       "\n",
       "* Status\n",
       "  Result count       : 9\n",
       "  Termination status : OPTIMAL\n",
       "  Message from the solver:\n",
       "  \"Model was solved to optimality (subject to tolerances), and an optimal solution is available.\"\n",
       "\n",
       "* Candidate solution (result #1)\n",
       "  Primal status      : FEASIBLE_POINT\n",
       "  Dual status        : NO_SOLUTION\n",
       "  Objective value    : 2.60162e+01\n",
       "  Objective bound    : 2.60162e+01\n",
       "  Relative gap       : 0.00000e+00\n",
       "  Dual objective value : 2.60162e+01\n",
       "\n",
       "* Work counters\n",
       "  Solve time (sec)   : 9.29089e-02\n",
       "  Barrier iterations : 0\n",
       "  Node count         : 1\n"
      ]
     },
     "metadata": {},
     "output_type": "display_data"
    }
   ],
   "source": [
    "model1 = Model(Gurobi.Optimizer)\n",
    "\n",
    "@variable(model1, x0[all_robots, all_src, all_dst] >= 0, Bin);\n",
    "@variable(model1, x1[all_robots, later_steps, all_dst, all_dst] >= 0, Bin);\n",
    "@variable(model1, maxtime >= 0);\n",
    "\n",
    "time_fromsrc = [sum(sum(T_s2d[ii, jj] * x0[rr, ii, jj] for ii in all_src) for jj in all_dst) for rr in all_robots];\n",
    "time_fromdst = [sum(sum(sum(T_d2d[ii, jj] * x1[rr, kk, ii, jj] for ii in all_dst) for jj in all_dst) for kk in later_steps) for rr in all_robots];\n",
    "time_total = [time_fromsrc[rr] + time_fromdst[rr] for rr in all_robots];\n",
    "\n",
    "@objective(model1, Min, maxtime);\n",
    "\n",
    "# The max time is larger than the times for each robot.\n",
    "@constraint(model1, maxtimelb[rr in all_robots], maxtime >= time_total[rr]);\n",
    "\n",
    "# Each destination must be served by at least one source.\n",
    "@constraint(model1, demand[jj in all_dst], sum(sum(x0[rr, ii, jj] for ii in all_src) for rr in all_robots) + sum(sum(sum(x1[rr, kk, ii, jj] for ii in all_dst) for kk in later_steps) for rr in all_robots) >= 1);\n",
    "\n",
    "# Continuity constraints. x0_{r, ij} = x1_{r, jl}\n",
    "@constraint(model1, cont0[rr in all_robots, jj in all_dst], sum(x0[rr, ii, jj] for ii in all_src) == sum(x1[rr, 1, jj, ll] for ll in all_dst));\n",
    "# Continuity constraints. x1_{r, ij} = x2_{r, jl}\n",
    "@constraint(model1, cont1[kk in 1:(n_steps-2), jj in all_dst], sum(sum(x1[rr, kk, ii, jj] for ii in all_dst) for rr in all_robots) == sum(sum(x1[rr, kk + 1, jj, ll] for ll in all_dst) for rr in all_robots));\n",
    "\n",
    "# Each robot must start from its assigned source.\n",
    "@constraint(model1, start[ii in all_src], sum(sum(x0[rr, ii, jj] for jj in all_dst) for rr in all_robots) == S[ii]);\n",
    "\n",
    "# Solve.\n",
    "optimize!(model1);\n",
    "solution_summary(model1)"
   ]
  },
  {
   "cell_type": "code",
   "execution_count": 33,
   "id": "bd37195a",
   "metadata": {},
   "outputs": [],
   "source": [
    "# Save solution.\n",
    "x1_0 = Array(value.(x0));\n",
    "x1_1 = Array(value.(x1));\n",
    "\n",
    "npzwrite(\"sols/problem4_time.npz\", Dict(\"x0\" => x1_0, \"x1\" => x1_1, \"objective\" => objective_value(model1)))"
   ]
  },
  {
   "cell_type": "markdown",
   "id": "72341de3",
   "metadata": {},
   "source": [
    "# Minimum Distance"
   ]
  },
  {
   "cell_type": "code",
   "execution_count": 34,
   "id": "b300bacd",
   "metadata": {},
   "outputs": [
    {
     "name": "stdout",
     "output_type": "stream",
     "text": [
      "Set parameter Username\n",
      "Academic license - for non-commercial use only - expires 2024-09-19\n",
      "Gurobi Optimizer version 10.0.0 build v10.0.0rc2 (linux64)\n",
      "\n",
      "CPU model: AMD Ryzen 9 3950X 16-Core Processor, instruction set [SSE2|AVX|AVX2]\n",
      "Thread count: 16 physical cores, 32 logical processors, using up to 32 threads\n",
      "\n",
      "Optimize a model with 34 rows, 757 columns and 2632 nonzeros\n",
      "Model fingerprint: 0xf27cb8bf\n",
      "Variable types: 1 continuous, 756 integer (756 binary)\n",
      "Coefficient statistics:\n",
      "  Matrix range     [3e-01, 5e+00]\n",
      "  Objective range  [1e+00, 1e+00]\n",
      "  Bounds range     [0e+00, 0e+00]\n",
      "  RHS range        [1e+00, 2e+00]\n",
      "Found heuristic solution: objective 11.6862404\n",
      "Presolve removed 0 rows and 54 columns\n",
      "Presolve time: 0.00s\n",
      "Presolved: 34 rows, 703 columns, 2497 nonzeros\n",
      "Variable types: 1 continuous, 702 integer (684 binary)\n",
      "\n",
      "Root relaxation: objective 1.466691e+00, 74 iterations, 0.00 seconds (0.00 work units)\n",
      "\n",
      "    Nodes    |    Current Node    |     Objective Bounds      |     Work\n",
      " Expl Unexpl |  Obj  Depth IntInf | Incumbent    BestBd   Gap | It/Node Time\n",
      "\n",
      "     0     0    1.46669    0   27   11.68624    1.46669  87.4%     -    0s\n",
      "H    0     0                       9.3847183    1.46669  84.4%     -    0s\n",
      "H    0     0                       6.9925402    1.46669  79.0%     -    0s\n",
      "H    0     0                       6.4104007    1.46669  77.1%     -    0s\n",
      "     0     0    2.56465    0   16    6.41040    2.56465  60.0%     -    0s\n",
      "H    0     0                       5.3681360    2.56465  52.2%     -    0s\n",
      "H    0     0                       4.5143539    2.56465  43.2%     -    0s\n",
      "     0     0    2.58178    0   22    4.51435    2.58178  42.8%     -    0s\n",
      "H    0     0                       2.9466165    2.58178  12.4%     -    0s\n",
      "     0     0    2.64180    0    8    2.94662    2.64180  10.3%     -    0s\n",
      "     0     0    2.64180    0   29    2.94662    2.64180  10.3%     -    0s\n",
      "     0     0    2.64180    0    5    2.94662    2.64180  10.3%     -    0s\n",
      "H    0     0                       2.8765089    2.64180  8.16%     -    0s\n",
      "H    0     0                       2.7992434    2.64180  5.62%     -    0s\n",
      "     0     0    2.64180    0    9    2.79924    2.64180  5.62%     -    0s\n",
      "     0     0    2.64180    0   28    2.79924    2.64180  5.62%     -    0s\n",
      "H    0     0                       2.7846380    2.64180  5.13%     -    0s\n",
      "     0     0    2.64180    0    7    2.78464    2.64180  5.13%     -    0s\n",
      "H    0     0                       2.7558093    2.64180  4.14%     -    0s\n",
      "     0     0    2.64180    0    8    2.75581    2.64180  4.14%     -    0s\n",
      "     0     0    2.64180    0   11    2.75581    2.64180  4.14%     -    0s\n",
      "     0     0    2.64180    0    8    2.75581    2.64180  4.14%     -    0s\n",
      "     0     0    2.64180    0   11    2.75581    2.64180  4.14%     -    0s\n",
      "     0     0    2.64352    0    6    2.75581    2.64352  4.07%     -    0s\n",
      "     0     0    2.64352    0   10    2.75581    2.64352  4.07%     -    0s\n",
      "     0     0    2.64352    0   10    2.75581    2.64352  4.07%     -    0s\n",
      "     0     0    2.64352    0   20    2.75581    2.64352  4.07%     -    0s\n",
      "     0     0    2.66152    0    2    2.75581    2.66152  3.42%     -    0s\n",
      "     0     0    2.66152    0   14    2.75581    2.66152  3.42%     -    0s\n",
      "     0     0    2.66152    0   13    2.75581    2.66152  3.42%     -    0s\n",
      "     0     0    2.66152    0    5    2.75581    2.66152  3.42%     -    0s\n",
      "     0     0    2.66152    0    5    2.75581    2.66152  3.42%     -    0s\n",
      "     0     0    2.66152    0    4    2.75581    2.66152  3.42%     -    0s\n",
      "     0     0    2.75581    0    2    2.75581    2.75581  0.00%     -    0s\n",
      "\n",
      "Cutting planes:\n",
      "  Gomory: 3\n",
      "  Cover: 7\n",
      "  Clique: 1\n",
      "  MIR: 7\n",
      "  StrongCG: 5\n",
      "  RLT: 1\n",
      "  Relax-and-lift: 4\n",
      "\n",
      "Explored 1 nodes (659 simplex iterations) in 0.09 seconds (0.05 work units)\n",
      "Thread count was 32 (of 32 available processors)\n",
      "\n",
      "Solution count 10: 2.75581 2.78464 2.79924 ... 9.38472\n",
      "\n",
      "Optimal solution found (tolerance 1.00e-04)\n",
      "Best objective 2.755809262539e+00, best bound 2.755809262539e+00, gap 0.0000%\n",
      "\n",
      "User-callback calls 378, time in user-callback 0.00 sec\n"
     ]
    },
    {
     "data": {
      "text/plain": [
       "* Solver : Gurobi\n",
       "\n",
       "* Status\n",
       "  Result count       : 10\n",
       "  Termination status : OPTIMAL\n",
       "  Message from the solver:\n",
       "  \"Model was solved to optimality (subject to tolerances), and an optimal solution is available.\"\n",
       "\n",
       "* Candidate solution (result #1)\n",
       "  Primal status      : FEASIBLE_POINT\n",
       "  Dual status        : NO_SOLUTION\n",
       "  Objective value    : 2.75581e+00\n",
       "  Objective bound    : 2.75581e+00\n",
       "  Relative gap       : 0.00000e+00\n",
       "  Dual objective value : 2.75581e+00\n",
       "\n",
       "* Work counters\n",
       "  Solve time (sec)   : 9.11832e-02\n",
       "  Barrier iterations : 0\n",
       "  Node count         : 1\n"
      ]
     },
     "metadata": {},
     "output_type": "display_data"
    }
   ],
   "source": [
    "model2 = Model(Gurobi.Optimizer)\n",
    "\n",
    "@variable(model2, x0[all_robots, all_src, all_dst] >= 0, Bin);\n",
    "@variable(model2, x1[all_robots, later_steps, all_dst, all_dst] >= 0, Bin);\n",
    "@variable(model2, maxdist >= 0);\n",
    "\n",
    "dist_fromsrc = [sum(sum(L_s2d[ii, jj] * x0[rr, ii, jj] for ii in all_src) for jj in all_dst) for rr in all_robots];\n",
    "dist_fromdst = [sum(sum(sum(L_d2d[ii, jj] * x1[rr, kk, ii, jj] for ii in all_dst) for jj in all_dst) for kk in later_steps) for rr in all_robots];\n",
    "dist_total = [dist_fromsrc[rr] + dist_fromdst[rr] for rr in all_robots];\n",
    "\n",
    "@objective(model2, Min, maxdist);\n",
    "\n",
    "# The max dist is larger than the dists for each robot.\n",
    "@constraint(model2, maxdistlb[rr in all_robots], maxdist >= dist_total[rr]);\n",
    "\n",
    "# Each destination must be served by at least one source.\n",
    "@constraint(model2, demand[jj in all_dst], sum(sum(x0[rr, ii, jj] for ii in all_src) for rr in all_robots) + sum(sum(sum(x1[rr, kk, ii, jj] for ii in all_dst) for kk in later_steps) for rr in all_robots) >= 1);\n",
    "\n",
    "# Continuity constraints. x0_{r, ij} = x1_{r, jl}\n",
    "@constraint(model2, cont0[jj in all_dst], sum(sum(x0[rr, ii, jj] for ii in all_src) for rr in all_robots) == sum(sum(x1[rr, 1, jj, ll] for ll in all_dst) for rr in all_robots));\n",
    "# Continuity constraints. x1_{r, ij} = x2_{r, jl}\n",
    "@constraint(model2, cont1[kk in 1:(n_steps-2), jj in all_dst], sum(sum(x1[rr, kk, ii, jj] for ii in all_dst) for rr in all_robots) == sum(sum(x1[rr, kk + 1, jj, ll] for ll in all_dst) for rr in all_robots));\n",
    "\n",
    "# Each robot must start from its assigned source.\n",
    "@constraint(model2, start[ii in all_src], sum(sum(x0[rr, ii, jj] for jj in all_dst) for rr in all_robots) == S[ii]);\n",
    "\n",
    "# Solve.\n",
    "optimize!(model2);\n",
    "solution_summary(model2)"
   ]
  },
  {
   "cell_type": "code",
   "execution_count": 35,
   "id": "8ac455a0",
   "metadata": {},
   "outputs": [],
   "source": [
    "# Save solution.\n",
    "x2_0 = Array(value.(x0));\n",
    "x2_1 = Array(value.(x1));\n",
    "\n",
    "npzwrite(\"sols/problem4_dist.npz\", Dict(\"x0\" => x2_0, \"x1\" => x2_1, \"objective\" => objective_value(model2)))"
   ]
  },
  {
   "cell_type": "markdown",
   "id": "8045d57c",
   "metadata": {},
   "source": [
    "# Compare the solutions."
   ]
  },
  {
   "cell_type": "code",
   "execution_count": 36,
   "id": "60a8839a",
   "metadata": {},
   "outputs": [
    {
     "data": {
      "text/plain": [
       "0.0"
      ]
     },
     "metadata": {},
     "output_type": "display_data"
    },
    {
     "data": {
      "text/plain": [
       "0.0"
      ]
     },
     "metadata": {},
     "output_type": "display_data"
    }
   ],
   "source": [
    "display(sum(sum(sum(x1_0 - x2_0))))\n",
    "display(sum(sum(sum(x1_1 - x2_1))))"
   ]
  }
 ],
 "metadata": {
  "kernelspec": {
   "display_name": "Julia 1.9.3",
   "language": "julia",
   "name": "julia-1.9"
  },
  "language_info": {
   "file_extension": ".jl",
   "mimetype": "application/julia",
   "name": "julia",
   "version": "1.9.3"
  }
 },
 "nbformat": 4,
 "nbformat_minor": 5
}
