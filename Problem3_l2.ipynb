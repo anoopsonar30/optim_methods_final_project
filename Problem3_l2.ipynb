{
 "cells": [
  {
   "cell_type": "code",
   "execution_count": 3,
   "id": "76e15520",
   "metadata": {},
   "outputs": [],
   "source": [
    "using CSV, DataFrames, JuMP, Gurobi, Formatting, NPZ"
   ]
  },
  {
   "cell_type": "markdown",
   "id": "f280639e",
   "metadata": {},
   "source": [
    "# Loading Data"
   ]
  },
  {
   "cell_type": "code",
   "execution_count": 4,
   "id": "744d8235",
   "metadata": {},
   "outputs": [],
   "source": [
    "length_s2d_df = CSV.read(\"csv/l2_s2d.csv\", DataFrame, header=false);\n",
    "length_d2d_df = CSV.read(\"csv/l2_d2d.csv\", DataFrame, header=false);"
   ]
  },
  {
   "cell_type": "code",
   "execution_count": 5,
   "id": "d53d7121",
   "metadata": {},
   "outputs": [
    {
     "data": {
      "text/html": [
       "<div><div style = \"float: left;\"><span>2×9 DataFrame</span></div><div style = \"clear: both;\"></div></div><div class = \"data-frame\" style = \"overflow-x: scroll;\"><table class = \"data-frame\" style = \"margin-bottom: 6px;\"><thead><tr class = \"header\"><th class = \"rowNumber\" style = \"font-weight: bold; text-align: right;\">Row</th><th style = \"text-align: left;\">Column1</th><th style = \"text-align: left;\">Column2</th><th style = \"text-align: left;\">Column3</th><th style = \"text-align: left;\">Column4</th><th style = \"text-align: left;\">Column5</th><th style = \"text-align: left;\">Column6</th><th style = \"text-align: left;\">Column7</th><th style = \"text-align: left;\">Column8</th><th style = \"text-align: left;\">Column9</th></tr><tr class = \"subheader headerLastRow\"><th class = \"rowNumber\" style = \"font-weight: bold; text-align: right;\"></th><th title = \"Float64\" style = \"text-align: left;\">Float64</th><th title = \"Float64\" style = \"text-align: left;\">Float64</th><th title = \"Float64\" style = \"text-align: left;\">Float64</th><th title = \"Float64\" style = \"text-align: left;\">Float64</th><th title = \"Float64\" style = \"text-align: left;\">Float64</th><th title = \"Float64\" style = \"text-align: left;\">Float64</th><th title = \"Float64\" style = \"text-align: left;\">Float64</th><th title = \"Float64\" style = \"text-align: left;\">Float64</th><th title = \"Float64\" style = \"text-align: left;\">Float64</th></tr></thead><tbody><tr><td class = \"rowNumber\" style = \"font-weight: bold; text-align: right;\">1</td><td style = \"text-align: right;\">0.0</td><td style = \"text-align: right;\">4.8211</td><td style = \"text-align: right;\">3.04137</td><td style = \"text-align: right;\">2.33759</td><td style = \"text-align: right;\">1.2254</td><td style = \"text-align: right;\">1.96559</td><td style = \"text-align: right;\">2.38026</td><td style = \"text-align: right;\">2.2427</td><td style = \"text-align: right;\">2.01504</td></tr><tr><td class = \"rowNumber\" style = \"font-weight: bold; text-align: right;\">2</td><td style = \"text-align: right;\">4.8211</td><td style = \"text-align: right;\">0.0</td><td style = \"text-align: right;\">1.79856</td><td style = \"text-align: right;\">3.02076</td><td style = \"text-align: right;\">3.81632</td><td style = \"text-align: right;\">2.87258</td><td style = \"text-align: right;\">2.45442</td><td style = \"text-align: right;\">2.59646</td><td style = \"text-align: right;\">2.82419</td></tr></tbody></table></div>"
      ],
      "text/latex": [
       "\\begin{tabular}{r|ccccccccc}\n",
       "\t& Column1 & Column2 & Column3 & Column4 & Column5 & Column6 & Column7 & Column8 & Column9\\\\\n",
       "\t\\hline\n",
       "\t& Float64 & Float64 & Float64 & Float64 & Float64 & Float64 & Float64 & Float64 & Float64\\\\\n",
       "\t\\hline\n",
       "\t1 & 0.0 & 4.8211 & 3.04137 & 2.33759 & 1.2254 & 1.96559 & 2.38026 & 2.2427 & 2.01504 \\\\\n",
       "\t2 & 4.8211 & 0.0 & 1.79856 & 3.02076 & 3.81632 & 2.87258 & 2.45442 & 2.59646 & 2.82419 \\\\\n",
       "\\end{tabular}\n"
      ],
      "text/plain": [
       "\u001b[1m2×9 DataFrame\u001b[0m\n",
       "\u001b[1m Row \u001b[0m│\u001b[1m Column1 \u001b[0m\u001b[1m Column2 \u001b[0m\u001b[1m Column3 \u001b[0m\u001b[1m Column4 \u001b[0m\u001b[1m Column5 \u001b[0m\u001b[1m Column6 \u001b[0m\u001b[1m Column7 \u001b[0m\u001b[1m Column8 \u001b[0m\u001b[1m\u001b[0m ⋯\n",
       "     │\u001b[90m Float64 \u001b[0m\u001b[90m Float64 \u001b[0m\u001b[90m Float64 \u001b[0m\u001b[90m Float64 \u001b[0m\u001b[90m Float64 \u001b[0m\u001b[90m Float64 \u001b[0m\u001b[90m Float64 \u001b[0m\u001b[90m Float64 \u001b[0m\u001b[90m\u001b[0m ⋯\n",
       "─────┼──────────────────────────────────────────────────────────────────────────\n",
       "   1 │  0.0      4.8211  3.04137  2.33759  1.2254   1.96559  2.38026  2.2427   ⋯\n",
       "   2 │  4.8211   0.0     1.79856  3.02076  3.81632  2.87258  2.45442  2.59646\n",
       "\u001b[36m                                                                1 column omitted\u001b[0m"
      ]
     },
     "metadata": {},
     "output_type": "display_data"
    }
   ],
   "source": [
    "first(length_d2d_df, 2)"
   ]
  },
  {
   "cell_type": "code",
   "execution_count": 6,
   "id": "bb1586b3",
   "metadata": {},
   "outputs": [
    {
     "name": "stdout",
     "output_type": "stream",
     "text": [
      "all_src: 1:3, all_dst: 1:9\n"
     ]
    }
   ],
   "source": [
    "n_src = nrow(length_s2d_df);\n",
    "n_dst = ncol(length_s2d_df);\n",
    "\n",
    "all_src = 1:n_src;\n",
    "all_dst = 1:n_dst;\n",
    "\n",
    "println(\"all_src: $all_src, all_dst: $all_dst\")"
   ]
  },
  {
   "cell_type": "code",
   "execution_count": 7,
   "id": "5ba4951d",
   "metadata": {},
   "outputs": [
    {
     "name": "stdout",
     "output_type": "stream",
     "text": [
      "L_s2d: (3, 9), L_d2d: (9, 9)\n"
     ]
    }
   ],
   "source": [
    "L_s2d = Matrix(length_s2d_df);\n",
    "L_d2d = Matrix(length_d2d_df);\n",
    "\n",
    "println(\"L_s2d: $(size(L_s2d)), L_d2d: $(size(L_d2d))\")"
   ]
  },
  {
   "cell_type": "markdown",
   "id": "4218907e",
   "metadata": {},
   "source": [
    "# Problem\n",
    "- We now additionally consider that each robot has a fixed starting source.\n",
    "- The number of robots is less than the number of destinations."
   ]
  },
  {
   "cell_type": "code",
   "execution_count": 8,
   "id": "974acf04",
   "metadata": {},
   "outputs": [
    {
     "name": "stdout",
     "output_type": "stream",
     "text": [
      "There are a 9 destinations but only 4 robots to visit them all.\n"
     ]
    }
   ],
   "source": [
    "S = [2, 1, 1];\n",
    "@assert size(S) == (n_src,)\n",
    "@assert sum(S) < n_dst\n",
    "\n",
    "println(\"There are a $n_dst destinations but only $(sum(S)) robots to visit them all.\")"
   ]
  },
  {
   "cell_type": "code",
   "execution_count": 9,
   "id": "0300639f",
   "metadata": {},
   "outputs": [
    {
     "name": "stdout",
     "output_type": "stream",
     "text": [
      "n_steps: 3, all_steps: 1:3, later_steps: 1:2\n"
     ]
    }
   ],
   "source": [
    "# We assume that each robot visits a maximum of n_steps destinations.\n",
    "n_steps = 3;\n",
    "all_steps = 1:n_steps;\n",
    "later_steps = 1:(n_steps-1);\n",
    "\n",
    "println(\"n_steps: $n_steps, all_steps: $all_steps, later_steps: $later_steps\")"
   ]
  },
  {
   "cell_type": "markdown",
   "id": "72341de3",
   "metadata": {},
   "source": [
    "# Minimum Distance"
   ]
  },
  {
   "cell_type": "code",
   "execution_count": 10,
   "id": "b300bacd",
   "metadata": {},
   "outputs": [
    {
     "name": "stdout",
     "output_type": "stream",
     "text": [
      "Set parameter Username\n",
      "Academic license - for non-commercial use only - expires 2024-09-19\n",
      "Gurobi Optimizer version 10.0.0 build v10.0.0rc2 (linux64)\n",
      "\n",
      "CPU model: AMD Ryzen 9 3950X 16-Core Processor, instruction set [SSE2|AVX|AVX2]\n",
      "Thread count: 16 physical cores, 32 logical processors, using up to 32 threads\n",
      "\n",
      "Optimize a model with 30 rows, 189 columns and 486 nonzeros\n",
      "Model fingerprint: 0xcc258200\n",
      "Variable types: 0 continuous, 189 integer (0 binary)\n",
      "Coefficient statistics:\n",
      "  Matrix range     [1e+00, 1e+00]\n",
      "  Objective range  [2e-01, 5e+00]\n",
      "  Bounds range     [0e+00, 0e+00]\n",
      "  RHS range        [1e+00, 2e+00]\n",
      "Found heuristic solution: objective 23.4622988\n",
      "Presolve time: 0.00s\n",
      "Presolved: 30 rows, 189 columns, 486 nonzeros\n",
      "Variable types: 0 continuous, 189 integer (18 binary)\n",
      "Found heuristic solution: objective 23.2983137\n",
      "\n",
      "Root relaxation: objective 4.089825e+00, 28 iterations, 0.00 seconds (0.00 work units)\n",
      "\n",
      "    Nodes    |    Current Node    |     Objective Bounds      |     Work\n",
      " Expl Unexpl |  Obj  Depth IntInf | Incumbent    BestBd   Gap | It/Node Time\n",
      "\n",
      "     0     0    4.08982    0   27   23.29831    4.08982  82.4%     -    0s\n",
      "H    0     0                      16.7387953    4.08982  75.6%     -    0s\n",
      "H    0     0                      14.9402314    4.08982  72.6%     -    0s\n",
      "H    0     0                      14.1266258    4.08982  71.0%     -    0s\n",
      "H    0     0                      13.1135699    4.08982  68.8%     -    0s\n",
      "H    0     0                      10.3996241    7.58602  27.1%     -    0s\n",
      "     0     0    7.58602    0   17   10.39962    7.58602  27.1%     -    0s\n",
      "H    0     0                      10.2102808    7.58602  25.7%     -    0s\n",
      "*    0     0               0       7.8625621    7.86256  0.00%     -    0s\n",
      "\n",
      "Cutting planes:\n",
      "  Gomory: 15\n",
      "  MIR: 10\n",
      "  Zero half: 3\n",
      "\n",
      "Explored 1 nodes (58 simplex iterations) in 0.01 seconds (0.00 work units)\n",
      "Thread count was 32 (of 32 available processors)\n",
      "\n",
      "Solution count 9: 7.86256 10.2103 10.3996 ... 23.4623\n",
      "\n",
      "Optimal solution found (tolerance 1.00e-04)\n",
      "Best objective 7.862562084887e+00, best bound 7.862562084887e+00, gap 0.0000%\n",
      "\n",
      "User-callback calls 195, time in user-callback 0.00 sec\n"
     ]
    },
    {
     "data": {
      "text/plain": [
       "* Solver : Gurobi\n",
       "\n",
       "* Status\n",
       "  Result count       : 9\n",
       "  Termination status : OPTIMAL\n",
       "  Message from the solver:\n",
       "  \"Model was solved to optimality (subject to tolerances), and an optimal solution is available.\"\n",
       "\n",
       "* Candidate solution (result #1)\n",
       "  Primal status      : FEASIBLE_POINT\n",
       "  Dual status        : NO_SOLUTION\n",
       "  Objective value    : 7.86256e+00\n",
       "  Objective bound    : 7.86256e+00\n",
       "  Relative gap       : 0.00000e+00\n",
       "  Dual objective value : 7.86256e+00\n",
       "\n",
       "* Work counters\n",
       "  Solve time (sec)   : 1.08070e-02\n",
       "  Barrier iterations : 0\n",
       "  Node count         : 1\n"
      ]
     },
     "metadata": {},
     "output_type": "display_data"
    }
   ],
   "source": [
    "model2 = Model(Gurobi.Optimizer)\n",
    "\n",
    "@variable(model2, x0[all_src, all_dst] >= 0, Int);\n",
    "@variable(model2, x1[later_steps, all_dst, all_dst] >= 0, Int);\n",
    "\n",
    "time_fromsrc = sum(sum(L_s2d[ii, jj] * x0[ii, jj] for ii in all_src) for jj in all_dst);\n",
    "time_fromdst = sum(sum(sum(L_d2d[ii, jj] * x1[kk, ii, jj] for ii in all_dst) for jj in all_dst) for kk in later_steps);\n",
    "\n",
    "@objective(model2, Min, time_fromsrc + time_fromdst);\n",
    "\n",
    "# Each destination must be served by at least one source.\n",
    "@constraint(model2, demand[jj in all_dst], sum(x0[ii, jj] for ii in all_src) + sum(sum(x1[kk, ii, jj] for ii in all_dst) for kk in later_steps) >= 1);\n",
    "\n",
    "# Continuity constraints. x0_{ij} = x1_{jl}\n",
    "@constraint(model2, cont0[jj in all_dst], sum(x0[ii, jj] for ii in all_src) == sum(x1[1, jj, ll] for ll in all_dst));\n",
    "# Continuity constraints. x1_{ij} = x2_{jl}\n",
    "@constraint(model2, cont1[kk in 1:(n_steps-2), jj in all_dst], sum(x1[kk, ii, jj] for ii in all_dst) == sum(x1[kk + 1, jj, ll] for ll in all_dst));\n",
    "\n",
    "# Each robot must start from its assigned source.\n",
    "@constraint(model2, start[ii in all_src], sum(x0[ii, jj] for jj in all_dst) == S[ii]);\n",
    "\n",
    "# Solve.\n",
    "optimize!(model2);\n",
    "solution_summary(model2)"
   ]
  },
  {
   "cell_type": "code",
   "execution_count": 11,
   "id": "8ac455a0",
   "metadata": {},
   "outputs": [
    {
     "data": {
      "text/plain": [
       "3×9 Matrix{Float64}:\n",
       "  1.0  -0.0  -0.0   0.0   0.0   0.0  -0.0  -0.0   1.0\n",
       " -0.0   1.0   0.0  -0.0  -0.0  -0.0  -0.0  -0.0  -0.0\n",
       " -0.0  -0.0   1.0  -0.0  -0.0  -0.0   0.0  -0.0  -0.0"
      ]
     },
     "metadata": {},
     "output_type": "display_data"
    },
    {
     "data": {
      "text/plain": [
       "9×9 Matrix{Float64}:\n",
       "  1.0  -0.0  -0.0  -0.0  -0.0  -0.0  -0.0  -0.0  -0.0\n",
       " -0.0   1.0  -0.0  -0.0  -0.0  -0.0  -0.0  -0.0  -0.0\n",
       " -0.0  -0.0  -0.0  -0.0  -0.0  -0.0   1.0   0.0  -0.0\n",
       " -0.0  -0.0  -0.0  -0.0  -0.0  -0.0  -0.0  -0.0   0.0\n",
       " -0.0  -0.0  -0.0  -0.0  -0.0   0.0  -0.0  -0.0  -0.0\n",
       " -0.0  -0.0  -0.0  -0.0  -0.0   0.0  -0.0  -0.0  -0.0\n",
       " -0.0  -0.0  -0.0  -0.0  -0.0  -0.0  -0.0   0.0   0.0\n",
       " -0.0  -0.0  -0.0  -0.0  -0.0  -0.0  -0.0  -0.0   0.0\n",
       " -0.0  -0.0  -0.0  -0.0  -0.0  -0.0  -0.0   1.0   0.0"
      ]
     },
     "metadata": {},
     "output_type": "display_data"
    },
    {
     "data": {
      "text/plain": [
       "9×9 Matrix{Float64}:\n",
       "  0.0  -0.0  -0.0  -0.0   1.0  -0.0  -0.0  -0.0  -0.0\n",
       " -0.0   1.0  -0.0  -0.0  -0.0  -0.0  -0.0  -0.0  -0.0\n",
       " -0.0   0.0  -0.0  -0.0  -0.0  -0.0  -0.0  -0.0  -0.0\n",
       " -0.0  -0.0  -0.0   0.0  -0.0  -0.0  -0.0  -0.0  -0.0\n",
       " -0.0  -0.0  -0.0  -0.0   0.0  -0.0  -0.0  -0.0  -0.0\n",
       " -0.0  -0.0  -0.0  -0.0  -0.0   0.0   0.0  -0.0   0.0\n",
       " -0.0  -0.0  -0.0  -0.0  -0.0   1.0   0.0  -0.0  -0.0\n",
       " -0.0  -0.0  -0.0   1.0  -0.0  -0.0  -0.0   0.0   0.0\n",
       " -0.0  -0.0  -0.0   0.0  -0.0  -0.0  -0.0  -0.0  -0.0"
      ]
     },
     "metadata": {},
     "output_type": "display_data"
    }
   ],
   "source": [
    "# Save solution.\n",
    "x2_0 = Array(value.(x0));\n",
    "x2_1 = Array(value.(x1));\n",
    "\n",
    "npzwrite(\"sols/problem3_l2dist.npz\", Dict(\"x0\" => x2_0, \"x1\" => x2_1, \"objective\" => objective_value(model2)))\n",
    "\n",
    "display(x2_0)\n",
    "display(x2_1[1, :, :])\n",
    "display(x2_1[2, :, :])"
   ]
  }
 ],
 "metadata": {
  "kernelspec": {
   "display_name": "Julia 1.9.2",
   "language": "julia",
   "name": "julia-1.9"
  },
  "language_info": {
   "file_extension": ".jl",
   "mimetype": "application/julia",
   "name": "julia",
   "version": "1.9.2"
  }
 },
 "nbformat": 4,
 "nbformat_minor": 5
}
