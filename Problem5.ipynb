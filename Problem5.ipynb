{
 "cells": [
  {
   "cell_type": "code",
   "execution_count": 1,
   "id": "76e15520",
   "metadata": {},
   "outputs": [],
   "source": [
    "using CSV, DataFrames, JuMP, Gurobi, Formatting, NPZ"
   ]
  },
  {
   "cell_type": "markdown",
   "id": "f280639e",
   "metadata": {},
   "source": [
    "# Loading Data"
   ]
  },
  {
   "cell_type": "code",
   "execution_count": 2,
   "id": "744d8235",
   "metadata": {},
   "outputs": [],
   "source": [
    "length_s2d_df = CSV.read(\"csv/l2_s2d.csv\", DataFrame, header=false)\n",
    "length_d2d_df = CSV.read(\"csv/l2_d2d.csv\", DataFrame, header=false);"
   ]
  },
  {
   "cell_type": "code",
   "execution_count": 3,
   "id": "d53d7121",
   "metadata": {},
   "outputs": [
    {
     "data": {
      "text/html": [
       "<div><div style = \"float: left;\"><span>2×9 DataFrame</span></div><div style = \"clear: both;\"></div></div><div class = \"data-frame\" style = \"overflow-x: scroll;\"><table class = \"data-frame\" style = \"margin-bottom: 6px;\"><thead><tr class = \"header\"><th class = \"rowNumber\" style = \"font-weight: bold; text-align: right;\">Row</th><th style = \"text-align: left;\">Column1</th><th style = \"text-align: left;\">Column2</th><th style = \"text-align: left;\">Column3</th><th style = \"text-align: left;\">Column4</th><th style = \"text-align: left;\">Column5</th><th style = \"text-align: left;\">Column6</th><th style = \"text-align: left;\">Column7</th><th style = \"text-align: left;\">Column8</th><th style = \"text-align: left;\">Column9</th></tr><tr class = \"subheader headerLastRow\"><th class = \"rowNumber\" style = \"font-weight: bold; text-align: right;\"></th><th title = \"Float64\" style = \"text-align: left;\">Float64</th><th title = \"Float64\" style = \"text-align: left;\">Float64</th><th title = \"Float64\" style = \"text-align: left;\">Float64</th><th title = \"Float64\" style = \"text-align: left;\">Float64</th><th title = \"Float64\" style = \"text-align: left;\">Float64</th><th title = \"Float64\" style = \"text-align: left;\">Float64</th><th title = \"Float64\" style = \"text-align: left;\">Float64</th><th title = \"Float64\" style = \"text-align: left;\">Float64</th><th title = \"Float64\" style = \"text-align: left;\">Float64</th></tr></thead><tbody><tr><td class = \"rowNumber\" style = \"font-weight: bold; text-align: right;\">1</td><td style = \"text-align: right;\">0.0</td><td style = \"text-align: right;\">4.8211</td><td style = \"text-align: right;\">3.04137</td><td style = \"text-align: right;\">2.33759</td><td style = \"text-align: right;\">1.2254</td><td style = \"text-align: right;\">1.96559</td><td style = \"text-align: right;\">2.38026</td><td style = \"text-align: right;\">2.2427</td><td style = \"text-align: right;\">2.01504</td></tr><tr><td class = \"rowNumber\" style = \"font-weight: bold; text-align: right;\">2</td><td style = \"text-align: right;\">4.8211</td><td style = \"text-align: right;\">0.0</td><td style = \"text-align: right;\">1.79856</td><td style = \"text-align: right;\">3.02076</td><td style = \"text-align: right;\">3.81632</td><td style = \"text-align: right;\">2.87258</td><td style = \"text-align: right;\">2.45442</td><td style = \"text-align: right;\">2.59646</td><td style = \"text-align: right;\">2.82419</td></tr></tbody></table></div>"
      ],
      "text/latex": [
       "\\begin{tabular}{r|ccccccccc}\n",
       "\t& Column1 & Column2 & Column3 & Column4 & Column5 & Column6 & Column7 & Column8 & Column9\\\\\n",
       "\t\\hline\n",
       "\t& Float64 & Float64 & Float64 & Float64 & Float64 & Float64 & Float64 & Float64 & Float64\\\\\n",
       "\t\\hline\n",
       "\t1 & 0.0 & 4.8211 & 3.04137 & 2.33759 & 1.2254 & 1.96559 & 2.38026 & 2.2427 & 2.01504 \\\\\n",
       "\t2 & 4.8211 & 0.0 & 1.79856 & 3.02076 & 3.81632 & 2.87258 & 2.45442 & 2.59646 & 2.82419 \\\\\n",
       "\\end{tabular}\n"
      ],
      "text/plain": [
       "\u001b[1m2×9 DataFrame\u001b[0m\n",
       "\u001b[1m Row \u001b[0m│\u001b[1m Column1 \u001b[0m\u001b[1m Column2 \u001b[0m\u001b[1m Column3 \u001b[0m\u001b[1m Column4 \u001b[0m\u001b[1m Column5 \u001b[0m\u001b[1m Column6 \u001b[0m\u001b[1m Column7 \u001b[0m\u001b[1m Column8 \u001b[0m\u001b[1m\u001b[0m ⋯\n",
       "     │\u001b[90m Float64 \u001b[0m\u001b[90m Float64 \u001b[0m\u001b[90m Float64 \u001b[0m\u001b[90m Float64 \u001b[0m\u001b[90m Float64 \u001b[0m\u001b[90m Float64 \u001b[0m\u001b[90m Float64 \u001b[0m\u001b[90m Float64 \u001b[0m\u001b[90m\u001b[0m ⋯\n",
       "─────┼──────────────────────────────────────────────────────────────────────────\n",
       "   1 │  0.0      4.8211  3.04137  2.33759  1.2254   1.96559  2.38026  2.2427   ⋯\n",
       "   2 │  4.8211   0.0     1.79856  3.02076  3.81632  2.87258  2.45442  2.59646\n",
       "\u001b[36m                                                                1 column omitted\u001b[0m"
      ]
     },
     "metadata": {},
     "output_type": "display_data"
    }
   ],
   "source": [
    "first(length_d2d_df, 2)"
   ]
  },
  {
   "cell_type": "code",
   "execution_count": 5,
   "id": "bb1586b3",
   "metadata": {},
   "outputs": [
    {
     "name": "stdout",
     "output_type": "stream",
     "text": [
      "all_src: 1:3, all_dst: 1:9\n"
     ]
    }
   ],
   "source": [
    "n_src = nrow(length_s2d_df);\n",
    "n_dst = ncol(length_s2d_df);\n",
    "\n",
    "all_src = 1:n_src;\n",
    "all_dst = 1:n_dst;\n",
    "\n",
    "println(\"all_src: $all_src, all_dst: $all_dst\")"
   ]
  },
  {
   "cell_type": "code",
   "execution_count": 6,
   "id": "5ba4951d",
   "metadata": {},
   "outputs": [
    {
     "name": "stdout",
     "output_type": "stream",
     "text": [
      "L_s2d: (3, 9), L_d2d: (9, 9)\n"
     ]
    }
   ],
   "source": [
    "L_s2d = Matrix(length_s2d_df);\n",
    "L_d2d = Matrix(length_d2d_df);\n",
    "\n",
    "println(\"L_s2d: $(size(L_s2d)), L_d2d: $(size(L_d2d))\")"
   ]
  },
  {
   "cell_type": "markdown",
   "id": "4218907e",
   "metadata": {},
   "source": [
    "# Problem\n",
    "- We now additionally consider that each robot has a fixed starting source.\n",
    "- The number of robots is less than the number of destinations.\n",
    "- Instead of minimizing the total time / distance, we want to minimize the maximum time / distance for any single robot.\n",
    "- Instead of using the path lengths from pathfinding, we use the Euclidean distance as a proxy."
   ]
  },
  {
   "cell_type": "code",
   "execution_count": 7,
   "id": "974acf04",
   "metadata": {},
   "outputs": [
    {
     "name": "stdout",
     "output_type": "stream",
     "text": [
      "There are a 9 destinations but only 4 robots to visit them all.\n"
     ]
    }
   ],
   "source": [
    "S = [2, 1, 1];\n",
    "@assert size(S) == (n_src,)\n",
    "@assert sum(S) < n_dst\n",
    "\n",
    "n_robots = sum(S)\n",
    "all_robots = 1:n_robots;\n",
    "\n",
    "println(\"There are a $n_dst destinations but only $n_robots robots to visit them all.\")"
   ]
  },
  {
   "cell_type": "code",
   "execution_count": 8,
   "id": "87705b45",
   "metadata": {},
   "outputs": [
    {
     "name": "stdout",
     "output_type": "stream",
     "text": [
      "n_steps: 3, all_steps: 1:3, later_steps: 1:2\n"
     ]
    }
   ],
   "source": [
    "# We assume that each robot visits a maximum of n_steps destinations.\n",
    "n_steps = 3;\n",
    "all_steps = 1:n_steps;\n",
    "later_steps = 1:(n_steps-1);\n",
    "\n",
    "println(\"n_steps: $n_steps, all_steps: $all_steps, later_steps: $later_steps\")"
   ]
  },
  {
   "cell_type": "markdown",
   "id": "72341de3",
   "metadata": {},
   "source": [
    "# Minimum Euclidean Distance"
   ]
  },
  {
   "cell_type": "code",
   "execution_count": 9,
   "id": "b300bacd",
   "metadata": {},
   "outputs": [
    {
     "name": "stdout",
     "output_type": "stream",
     "text": [
      "Set parameter Username\n",
      "Academic license - for non-commercial use only - expires 2024-09-19\n",
      "Gurobi Optimizer version 10.0.0 build v10.0.0rc2 (linux64)\n",
      "\n",
      "CPU model: AMD Ryzen 9 3950X 16-Core Processor, instruction set [SSE2|AVX|AVX2]\n",
      "Thread count: 16 physical cores, 32 logical processors, using up to 32 threads\n",
      "\n",
      "Optimize a model with 88 rows, 757 columns and 2632 nonzeros\n",
      "Model fingerprint: 0x9d428d36\n",
      "Variable types: 1 continuous, 756 integer (756 binary)\n",
      "Coefficient statistics:\n",
      "  Matrix range     [2e-01, 5e+00]\n",
      "  Objective range  [1e+00, 1e+00]\n",
      "  Bounds range     [0e+00, 0e+00]\n",
      "  RHS range        [1e+00, 2e+00]\n",
      "Found heuristic solution: objective 6.6840477\n",
      "Presolve time: 0.00s\n",
      "Presolved: 88 rows, 757 columns, 2632 nonzeros\n",
      "Variable types: 1 continuous, 756 integer (756 binary)\n",
      "\n",
      "Root relaxation: objective 1.022456e+00, 200 iterations, 0.00 seconds (0.00 work units)\n",
      "\n",
      "    Nodes    |    Current Node    |     Objective Bounds      |     Work\n",
      " Expl Unexpl |  Obj  Depth IntInf | Incumbent    BestBd   Gap | It/Node Time\n",
      "\n",
      "     0     0    1.02246    0   36    6.68405    1.02246  84.7%     -    0s\n",
      "H    0     0                       6.4862891    1.02246  84.2%     -    0s\n",
      "H    0     0                       5.9555556    1.02246  82.8%     -    0s\n",
      "H    0     0                       4.4566694    1.02246  77.1%     -    0s\n",
      "H    0     0                       3.8356589    1.59613  58.4%     -    0s\n",
      "     0     0    1.59613    0   30    3.83566    1.59613  58.4%     -    0s\n",
      "H    0     0                       3.8120322    1.59613  58.1%     -    0s\n",
      "H    0     0                       3.2590476    1.59613  51.0%     -    0s\n",
      "H    0     0                       3.1204524    1.59613  48.8%     -    0s\n",
      "     0     0    1.59613    0   27    3.12045    1.59613  48.8%     -    0s\n",
      "     0     0    1.78636    0   48    3.12045    1.78636  42.8%     -    0s\n",
      "H    0     0                       3.0696138    1.78636  41.8%     -    0s\n",
      "     0     0    1.80376    0   46    3.06961    1.80376  41.2%     -    0s\n",
      "     0     0    1.81171    0   53    3.06961    1.81171  41.0%     -    0s\n",
      "     0     0    1.81445    0   52    3.06961    1.81445  40.9%     -    0s\n",
      "     0     0    1.81445    0   50    3.06961    1.81445  40.9%     -    0s\n",
      "H    0     0                       2.7406514    1.82043  33.6%     -    0s\n",
      "     0     0    1.82043    0   33    2.74065    1.82043  33.6%     -    0s\n",
      "H    0     0                       2.7139054    1.82043  32.9%     -    0s\n",
      "     0     0    1.92638    0   23    2.71391    1.92638  29.0%     -    0s\n",
      "H    0     0                       2.6905581    1.92638  28.4%     -    0s\n",
      "     0     0    1.92875    0   24    2.69056    1.92875  28.3%     -    0s\n",
      "     0     0    1.96564    0   15    2.69056    1.96564  26.9%     -    0s\n",
      "     0     0    1.96564    0   21    2.69056    1.96564  26.9%     -    0s\n",
      "H    0     0                       2.6423579    1.96564  25.6%     -    0s\n",
      "     0     0    1.96564    0   23    2.64236    1.96564  25.6%     -    0s\n",
      "     0     0    1.96564    0   19    2.64236    1.96564  25.6%     -    0s\n",
      "     0     2    1.97385    0   12    2.64236    1.97385  25.3%     -    0s\n",
      "H    5     7                       2.5853273    1.99937  22.7%  40.8    0s\n",
      "H   10     9                       2.5680243    2.00644  21.9%  38.4    0s\n",
      "H   18    14                       2.5659466    2.01721  21.4%  34.9    0s\n",
      "H   34    20                       2.3577061    2.12482  9.88%  34.1    0s\n",
      "\n",
      "Cutting planes:\n",
      "  Gomory: 8\n",
      "  Cover: 5\n",
      "  Clique: 4\n",
      "  MIR: 3\n",
      "  Zero half: 5\n",
      "  RLT: 1\n",
      "\n",
      "Explored 98 nodes (3213 simplex iterations) in 0.19 seconds (0.16 work units)\n",
      "Thread count was 32 (of 32 available processors)\n",
      "\n",
      "Solution count 10: 2.35771 2.56595 2.56802 ... 3.12045\n",
      "\n",
      "Optimal solution found (tolerance 1.00e-04)\n",
      "Best objective 2.357706071698e+00, best bound 2.357706071698e+00, gap 0.0000%\n",
      "\n",
      "User-callback calls 529, time in user-callback 0.00 sec\n"
     ]
    },
    {
     "data": {
      "text/plain": [
       "* Solver : Gurobi\n",
       "\n",
       "* Status\n",
       "  Result count       : 10\n",
       "  Termination status : OPTIMAL\n",
       "  Message from the solver:\n",
       "  \"Model was solved to optimality (subject to tolerances), and an optimal solution is available.\"\n",
       "\n",
       "* Candidate solution (result #1)\n",
       "  Primal status      : FEASIBLE_POINT\n",
       "  Dual status        : NO_SOLUTION\n",
       "  Objective value    : 2.35771e+00\n",
       "  Objective bound    : 2.35771e+00\n",
       "  Relative gap       : 0.00000e+00\n",
       "  Dual objective value : 2.35771e+00\n",
       "\n",
       "* Work counters\n",
       "  Solve time (sec)   : 1.86416e-01\n",
       "  Barrier iterations : 0\n",
       "  Node count         : 98\n"
      ]
     },
     "metadata": {},
     "output_type": "display_data"
    }
   ],
   "source": [
    "model2 = Model(Gurobi.Optimizer)\n",
    "\n",
    "@variable(model2, x0[all_robots, all_src, all_dst] >= 0, Bin);\n",
    "@variable(model2, x1[all_robots, later_steps, all_dst, all_dst] >= 0, Bin);\n",
    "@variable(model2, maxdist >= 0);\n",
    "\n",
    "dist_fromsrc = [sum(sum(L_s2d[ii, jj] * x0[rr, ii, jj] for ii in all_src) for jj in all_dst) for rr in all_robots];\n",
    "dist_fromdst = [sum(sum(sum(L_d2d[ii, jj] * x1[rr, kk, ii, jj] for ii in all_dst) for jj in all_dst) for kk in later_steps) for rr in all_robots];\n",
    "dist_total = [dist_fromsrc[rr] + dist_fromdst[rr] for rr in all_robots];\n",
    "\n",
    "@objective(model2, Min, maxdist);\n",
    "\n",
    "# The max dist is larger than the dists for each robot.\n",
    "@constraint(model2, maxdistlb[rr in all_robots], maxdist >= dist_total[rr]);\n",
    "\n",
    "# Each destination must be served by at least one source.\n",
    "@constraint(model2, demand[jj in all_dst], sum(sum(x0[rr, ii, jj] for ii in all_src) for rr in all_robots) + sum(sum(sum(x1[rr, kk, ii, jj] for ii in all_dst) for kk in later_steps) for rr in all_robots) >= 1);\n",
    "\n",
    "# Continuity constraints. x0_{r, ij} = x1_{r, jl}\n",
    "@constraint(model2, cont0[rr in all_robots, jj in all_dst], sum(x0[rr, ii, jj] for ii in all_src) == sum(x1[rr, 1, jj, ll] for ll in all_dst));\n",
    "# Continuity constraints. x1_{r, ij} = x2_{r, jl}\n",
    "@constraint(model2, cont1[rr in all_robots, kk in 1:(n_steps-2), jj in all_dst], sum(x1[rr, kk, ii, jj] for ii in all_dst) == sum(x1[rr, kk + 1, jj, ll] for ll in all_dst));\n",
    "\n",
    "# Each robot must start from its assigned source.\n",
    "@constraint(model2, start[ii in all_src], sum(sum(x0[rr, ii, jj] for jj in all_dst) for rr in all_robots) == S[ii]);\n",
    "\n",
    "# Solve.\n",
    "optimize!(model2);\n",
    "solution_summary(model2)"
   ]
  },
  {
   "cell_type": "code",
   "execution_count": 10,
   "id": "8ac455a0",
   "metadata": {},
   "outputs": [],
   "source": [
    "# Save solution.\n",
    "x2_0 = Array(value.(x0));\n",
    "x2_1 = Array(value.(x1));\n",
    "\n",
    "npzwrite(\"sols/problem4_l2dist.npz\", Dict(\"x0\" => x2_0, \"x1\" => x2_1, \"objective\" => objective_value(model2)))"
   ]
  }
 ],
 "metadata": {
  "kernelspec": {
   "display_name": "Julia 1.9.2",
   "language": "julia",
   "name": "julia-1.9"
  },
  "language_info": {
   "file_extension": ".jl",
   "mimetype": "application/julia",
   "name": "julia",
   "version": "1.9.2"
  }
 },
 "nbformat": 4,
 "nbformat_minor": 5
}
