{
 "cells": [
  {
   "cell_type": "code",
   "execution_count": 1,
   "id": "76e15520",
   "metadata": {},
   "outputs": [],
   "source": [
    "using CSV, DataFrames, JuMP, Gurobi, Formatting, NPZ"
   ]
  },
  {
   "cell_type": "markdown",
   "id": "f280639e",
   "metadata": {},
   "source": [
    "# Loading Data"
   ]
  },
  {
   "cell_type": "code",
   "execution_count": 2,
   "id": "744d8235",
   "metadata": {},
   "outputs": [],
   "source": [
    "time_s2d_df = CSV.read(\"csv/time_srcs_to_dests.csv\", DataFrame, header=false);\n",
    "length_s2d_df = CSV.read(\"csv/length_srcs_to_dests.csv\", DataFrame, header=false);"
   ]
  },
  {
   "cell_type": "code",
   "execution_count": 3,
   "id": "bc953876",
   "metadata": {},
   "outputs": [
    {
     "data": {
      "text/html": [
       "<div><div style = \"float: left;\"><span>2×9 DataFrame</span></div><div style = \"clear: both;\"></div></div><div class = \"data-frame\" style = \"overflow-x: scroll;\"><table class = \"data-frame\" style = \"margin-bottom: 6px;\"><thead><tr class = \"header\"><th class = \"rowNumber\" style = \"font-weight: bold; text-align: right;\">Row</th><th style = \"text-align: left;\">Column1</th><th style = \"text-align: left;\">Column2</th><th style = \"text-align: left;\">Column3</th><th style = \"text-align: left;\">Column4</th><th style = \"text-align: left;\">Column5</th><th style = \"text-align: left;\">Column6</th><th style = \"text-align: left;\">Column7</th><th style = \"text-align: left;\">Column8</th><th style = \"text-align: left;\">Column9</th></tr><tr class = \"subheader headerLastRow\"><th class = \"rowNumber\" style = \"font-weight: bold; text-align: right;\"></th><th title = \"Float64\" style = \"text-align: left;\">Float64</th><th title = \"Float64\" style = \"text-align: left;\">Float64</th><th title = \"Float64\" style = \"text-align: left;\">Float64</th><th title = \"Float64\" style = \"text-align: left;\">Float64</th><th title = \"Float64\" style = \"text-align: left;\">Float64</th><th title = \"Float64\" style = \"text-align: left;\">Float64</th><th title = \"Float64\" style = \"text-align: left;\">Float64</th><th title = \"Float64\" style = \"text-align: left;\">Float64</th><th title = \"Float64\" style = \"text-align: left;\">Float64</th></tr></thead><tbody><tr><td class = \"rowNumber\" style = \"font-weight: bold; text-align: right;\">1</td><td style = \"text-align: right;\">7.129</td><td style = \"text-align: right;\">48.7983</td><td style = \"text-align: right;\">31.9467</td><td style = \"text-align: right;\">22.8094</td><td style = \"text-align: right;\">26.2942</td><td style = \"text-align: right;\">22.6127</td><td style = \"text-align: right;\">28.3366</td><td style = \"text-align: right;\">21.3805</td><td style = \"text-align: right;\">20.7362</td></tr><tr><td class = \"rowNumber\" style = \"font-weight: bold; text-align: right;\">2</td><td style = \"text-align: right;\">35.44</td><td style = \"text-align: right;\">17.4854</td><td style = \"text-align: right;\">5.28</td><td style = \"text-align: right;\">27.8</td><td style = \"text-align: right;\">26.9882</td><td style = \"text-align: right;\">22.2878</td><td style = \"text-align: right;\">11.64</td><td style = \"text-align: right;\">24.9489</td><td style = \"text-align: right;\">24.9139</td></tr></tbody></table></div>"
      ],
      "text/latex": [
       "\\begin{tabular}{r|ccccccccc}\n",
       "\t& Column1 & Column2 & Column3 & Column4 & Column5 & Column6 & Column7 & Column8 & Column9\\\\\n",
       "\t\\hline\n",
       "\t& Float64 & Float64 & Float64 & Float64 & Float64 & Float64 & Float64 & Float64 & Float64\\\\\n",
       "\t\\hline\n",
       "\t1 & 7.129 & 48.7983 & 31.9467 & 22.8094 & 26.2942 & 22.6127 & 28.3366 & 21.3805 & 20.7362 \\\\\n",
       "\t2 & 35.44 & 17.4854 & 5.28 & 27.8 & 26.9882 & 22.2878 & 11.64 & 24.9489 & 24.9139 \\\\\n",
       "\\end{tabular}\n"
      ],
      "text/plain": [
       "\u001b[1m2×9 DataFrame\u001b[0m\n",
       "\u001b[1m Row \u001b[0m│\u001b[1m Column1 \u001b[0m\u001b[1m Column2 \u001b[0m\u001b[1m Column3 \u001b[0m\u001b[1m Column4 \u001b[0m\u001b[1m Column5 \u001b[0m\u001b[1m Column6 \u001b[0m\u001b[1m Column7 \u001b[0m\u001b[1m Column8 \u001b[0m\u001b[1m\u001b[0m ⋯\n",
       "     │\u001b[90m Float64 \u001b[0m\u001b[90m Float64 \u001b[0m\u001b[90m Float64 \u001b[0m\u001b[90m Float64 \u001b[0m\u001b[90m Float64 \u001b[0m\u001b[90m Float64 \u001b[0m\u001b[90m Float64 \u001b[0m\u001b[90m Float64 \u001b[0m\u001b[90m\u001b[0m ⋯\n",
       "─────┼──────────────────────────────────────────────────────────────────────────\n",
       "   1 │   7.129  48.7983  31.9467  22.8094  26.2942  22.6127  28.3366  21.3805  ⋯\n",
       "   2 │  35.44   17.4854   5.28    27.8     26.9882  22.2878  11.64    24.9489\n",
       "\u001b[36m                                                                1 column omitted\u001b[0m"
      ]
     },
     "metadata": {},
     "output_type": "display_data"
    }
   ],
   "source": [
    "first(time_s2d_df, 2)"
   ]
  },
  {
   "cell_type": "code",
   "execution_count": 4,
   "id": "d53d7121",
   "metadata": {},
   "outputs": [
    {
     "data": {
      "text/html": [
       "<div><div style = \"float: left;\"><span>2×9 DataFrame</span></div><div style = \"clear: both;\"></div></div><div class = \"data-frame\" style = \"overflow-x: scroll;\"><table class = \"data-frame\" style = \"margin-bottom: 6px;\"><thead><tr class = \"header\"><th class = \"rowNumber\" style = \"font-weight: bold; text-align: right;\">Row</th><th style = \"text-align: left;\">Column1</th><th style = \"text-align: left;\">Column2</th><th style = \"text-align: left;\">Column3</th><th style = \"text-align: left;\">Column4</th><th style = \"text-align: left;\">Column5</th><th style = \"text-align: left;\">Column6</th><th style = \"text-align: left;\">Column7</th><th style = \"text-align: left;\">Column8</th><th style = \"text-align: left;\">Column9</th></tr><tr class = \"subheader headerLastRow\"><th class = \"rowNumber\" style = \"font-weight: bold; text-align: right;\"></th><th title = \"Float64\" style = \"text-align: left;\">Float64</th><th title = \"Float64\" style = \"text-align: left;\">Float64</th><th title = \"Float64\" style = \"text-align: left;\">Float64</th><th title = \"Float64\" style = \"text-align: left;\">Float64</th><th title = \"Float64\" style = \"text-align: left;\">Float64</th><th title = \"Float64\" style = \"text-align: left;\">Float64</th><th title = \"Float64\" style = \"text-align: left;\">Float64</th><th title = \"Float64\" style = \"text-align: left;\">Float64</th><th title = \"Float64\" style = \"text-align: left;\">Float64</th></tr></thead><tbody><tr><td class = \"rowNumber\" style = \"font-weight: bold; text-align: right;\">1</td><td style = \"text-align: right;\">0.742265</td><td style = \"text-align: right;\">5.07616</td><td style = \"text-align: right;\">3.27882</td><td style = \"text-align: right;\">2.46325</td><td style = \"text-align: right;\">2.77267</td><td style = \"text-align: right;\">2.36016</td><td style = \"text-align: right;\">2.88682</td><td style = \"text-align: right;\">2.36068</td><td style = \"text-align: right;\">2.20435</td></tr><tr><td class = \"rowNumber\" style = \"font-weight: bold; text-align: right;\">2</td><td style = \"text-align: right;\">3.7094</td><td style = \"text-align: right;\">1.8535</td><td style = \"text-align: right;\">0.551457</td><td style = \"text-align: right;\">2.95893</td><td style = \"text-align: right;\">2.83249</td><td style = \"text-align: right;\">2.28854</td><td style = \"text-align: right;\">1.24267</td><td style = \"text-align: right;\">2.65683</td><td style = \"text-align: right;\">2.6224</td></tr></tbody></table></div>"
      ],
      "text/latex": [
       "\\begin{tabular}{r|ccccccccc}\n",
       "\t& Column1 & Column2 & Column3 & Column4 & Column5 & Column6 & Column7 & Column8 & Column9\\\\\n",
       "\t\\hline\n",
       "\t& Float64 & Float64 & Float64 & Float64 & Float64 & Float64 & Float64 & Float64 & Float64\\\\\n",
       "\t\\hline\n",
       "\t1 & 0.742265 & 5.07616 & 3.27882 & 2.46325 & 2.77267 & 2.36016 & 2.88682 & 2.36068 & 2.20435 \\\\\n",
       "\t2 & 3.7094 & 1.8535 & 0.551457 & 2.95893 & 2.83249 & 2.28854 & 1.24267 & 2.65683 & 2.6224 \\\\\n",
       "\\end{tabular}\n"
      ],
      "text/plain": [
       "\u001b[1m2×9 DataFrame\u001b[0m\n",
       "\u001b[1m Row \u001b[0m│\u001b[1m Column1  \u001b[0m\u001b[1m Column2 \u001b[0m\u001b[1m Column3  \u001b[0m\u001b[1m Column4 \u001b[0m\u001b[1m Column5 \u001b[0m\u001b[1m Column6 \u001b[0m\u001b[1m Column7 \u001b[0m\u001b[1m Column\u001b[0m ⋯\n",
       "     │\u001b[90m Float64  \u001b[0m\u001b[90m Float64 \u001b[0m\u001b[90m Float64  \u001b[0m\u001b[90m Float64 \u001b[0m\u001b[90m Float64 \u001b[0m\u001b[90m Float64 \u001b[0m\u001b[90m Float64 \u001b[0m\u001b[90m Float6\u001b[0m ⋯\n",
       "─────┼──────────────────────────────────────────────────────────────────────────\n",
       "   1 │ 0.742265  5.07616  3.27882   2.46325  2.77267  2.36016  2.88682  2.3606 ⋯\n",
       "   2 │ 3.7094    1.8535   0.551457  2.95893  2.83249  2.28854  1.24267  2.6568\n",
       "\u001b[36m                                                               2 columns omitted\u001b[0m"
      ]
     },
     "metadata": {},
     "output_type": "display_data"
    }
   ],
   "source": [
    "first(length_s2d_df, 2)"
   ]
  },
  {
   "cell_type": "code",
   "execution_count": 5,
   "id": "bb1586b3",
   "metadata": {},
   "outputs": [
    {
     "name": "stdout",
     "output_type": "stream",
     "text": [
      "all_src: 1:3, all_dst: 1:9\n"
     ]
    }
   ],
   "source": [
    "n_src = nrow(time_s2d_df);\n",
    "n_dst = ncol(time_s2d_df);\n",
    "\n",
    "all_src = 1:n_src;\n",
    "all_dst = 1:n_dst;\n",
    "\n",
    "println(\"all_src: $all_src, all_dst: $all_dst\")"
   ]
  },
  {
   "cell_type": "code",
   "execution_count": 6,
   "id": "5ba4951d",
   "metadata": {},
   "outputs": [
    {
     "name": "stdout",
     "output_type": "stream",
     "text": [
      "T: (3, 9), L: (3, 9)\n"
     ]
    }
   ],
   "source": [
    "T = Matrix(time_s2d_df);\n",
    "L = Matrix(length_s2d_df);\n",
    "\n",
    "println(\"T: $(size(T)), L: $(size(L))\")"
   ]
  },
  {
   "cell_type": "markdown",
   "id": "750b8036",
   "metadata": {},
   "source": [
    "# Problem\n",
    "- We now additionally consider that each robot has a fixed starting source."
   ]
  },
  {
   "cell_type": "code",
   "execution_count": 7,
   "id": "37f74178",
   "metadata": {},
   "outputs": [],
   "source": [
    "S = [5, 1, 3];\n",
    "@assert size(S) == (n_src,)\n",
    "@assert sum(S) == n_dst"
   ]
  },
  {
   "cell_type": "markdown",
   "id": "3c599389",
   "metadata": {},
   "source": [
    "# Minimum Time"
   ]
  },
  {
   "cell_type": "code",
   "execution_count": 8,
   "id": "8038fa03",
   "metadata": {},
   "outputs": [
    {
     "name": "stdout",
     "output_type": "stream",
     "text": [
      "Set parameter Username\n",
      "Academic license - for non-commercial use only - expires 2024-09-19\n",
      "Gurobi Optimizer version 10.0.0 build v10.0.0rc2 (linux64)\n",
      "\n",
      "CPU model: AMD Ryzen 9 3950X 16-Core Processor, instruction set [SSE2|AVX|AVX2]\n",
      "Thread count: 16 physical cores, 32 logical processors, using up to 32 threads\n",
      "\n",
      "Optimize a model with 13 rows, 27 columns and 81 nonzeros\n",
      "Model fingerprint: 0xff95c60c\n",
      "Coefficient statistics:\n",
      "  Matrix range     [1e+00, 1e+00]\n",
      "  Objective range  [5e+00, 5e+01]\n",
      "  Bounds range     [0e+00, 0e+00]\n",
      "  RHS range        [1e+00, 9e+00]\n",
      "Presolve removed 1 rows and 0 columns\n",
      "Presolve time: 0.00s\n",
      "Presolved: 12 rows, 27 columns, 72 nonzeros\n",
      "\n",
      "Iteration    Objective       Primal Inf.    Dual Inf.      Time\n",
      "       0    2.0880007e+01   6.500000e+00   0.000000e+00      0s\n",
      "       9    1.4863289e+02   0.000000e+00   0.000000e+00      0s\n",
      "\n",
      "Solved in 9 iterations and 0.00 seconds (0.00 work units)\n",
      "Optimal objective  1.486328908e+02\n",
      "\n",
      "User-callback calls 67, time in user-callback 0.00 sec\n"
     ]
    },
    {
     "data": {
      "text/plain": [
       "* Solver : Gurobi\n",
       "\n",
       "* Status\n",
       "  Result count       : 1\n",
       "  Termination status : OPTIMAL\n",
       "  Message from the solver:\n",
       "  \"Model was solved to optimality (subject to tolerances), and an optimal solution is available.\"\n",
       "\n",
       "* Candidate solution (result #1)\n",
       "  Primal status      : FEASIBLE_POINT\n",
       "  Dual status        : FEASIBLE_POINT\n",
       "  Objective value    : 1.48633e+02\n",
       "  Objective bound    : 1.48633e+02\n",
       "  Dual objective value : 1.48633e+02\n",
       "\n",
       "* Work counters\n",
       "  Solve time (sec)   : 3.39031e-04\n",
       "  Barrier iterations : 0\n",
       "  Node count         : 0\n"
      ]
     },
     "metadata": {},
     "output_type": "display_data"
    }
   ],
   "source": [
    "model1 = Model(Gurobi.Optimizer)\n",
    "\n",
    "@variable(model1, x[all_src, all_dst] >= 0);\n",
    "\n",
    "@objective(model1, Min, sum(sum(T[ii, jj] * x[ii, jj] for ii in all_src) for jj in all_dst));\n",
    "\n",
    "# Each destination must be served by at least one source.\n",
    "@constraint(model1, demand[jj in all_dst], sum(x[ii, jj] for ii in all_src) >= 1);\n",
    "\n",
    "# There is one robot for each destination.\n",
    "@constraint(model1, nrobots, sum(sum(x[ii, jj] for ii in all_src) for jj in all_dst) == n_dst);\n",
    "\n",
    "# Each robot must start from its assigned source.\n",
    "@constraint(model1, start[ii in all_src], sum(x[ii, jj] for jj in all_dst) == S[ii]);\n",
    "\n",
    "# Solve.\n",
    "optimize!(model1);\n",
    "solution_summary(model1)"
   ]
  },
  {
   "cell_type": "code",
   "execution_count": 9,
   "id": "bd37195a",
   "metadata": {},
   "outputs": [
    {
     "data": {
      "text/plain": [
       "3×9 Matrix{Float64}:\n",
       " 1.0  0.0  0.0  1.0  1.0  0.0  0.0  1.0  1.0\n",
       " 0.0  1.0  0.0  0.0  0.0  0.0  0.0  0.0  0.0\n",
       " 0.0  0.0  1.0  0.0  0.0  1.0  1.0  0.0  0.0"
      ]
     },
     "metadata": {},
     "output_type": "display_data"
    }
   ],
   "source": [
    "# Save solution.\n",
    "x1 = Array(value.(x));\n",
    "npzwrite(\"sols/problem2_time.npz\", Dict(\"x\" => x1, \"objective\" => objective_value(model1)));\n",
    "\n",
    "x1"
   ]
  },
  {
   "cell_type": "markdown",
   "id": "72341de3",
   "metadata": {},
   "source": [
    "# Minimum Distance"
   ]
  },
  {
   "cell_type": "code",
   "execution_count": 10,
   "id": "b300bacd",
   "metadata": {},
   "outputs": [
    {
     "name": "stdout",
     "output_type": "stream",
     "text": [
      "Set parameter Username\n",
      "Academic license - for non-commercial use only - expires 2024-09-19\n",
      "Gurobi Optimizer version 10.0.0 build v10.0.0rc2 (linux64)\n",
      "\n",
      "CPU model: AMD Ryzen 9 3950X 16-Core Processor, instruction set [SSE2|AVX|AVX2]\n",
      "Thread count: 16 physical cores, 32 logical processors, using up to 32 threads\n",
      "\n",
      "Optimize a model with 13 rows, 27 columns and 81 nonzeros\n",
      "Model fingerprint: 0xfd0b7d87\n",
      "Coefficient statistics:\n",
      "  Matrix range     [1e+00, 1e+00]\n",
      "  Objective range  [6e-01, 5e+00]\n",
      "  Bounds range     [0e+00, 0e+00]\n",
      "  RHS range        [1e+00, 9e+00]\n",
      "Presolve removed 1 rows and 0 columns\n",
      "Presolve time: 0.00s\n",
      "Presolved: 12 rows, 27 columns, 72 nonzeros\n",
      "\n",
      "Iteration    Objective       Primal Inf.    Dual Inf.      Time\n",
      "       0    2.2500401e+00   6.500000e+00   0.000000e+00      0s\n",
      "      10    1.5815293e+01   0.000000e+00   0.000000e+00      0s\n",
      "\n",
      "Solved in 10 iterations and 0.00 seconds (0.00 work units)\n",
      "Optimal objective  1.581529286e+01\n",
      "\n",
      "User-callback calls 67, time in user-callback 0.00 sec\n"
     ]
    },
    {
     "data": {
      "text/plain": [
       "* Solver : Gurobi\n",
       "\n",
       "* Status\n",
       "  Result count       : 1\n",
       "  Termination status : OPTIMAL\n",
       "  Message from the solver:\n",
       "  \"Model was solved to optimality (subject to tolerances), and an optimal solution is available.\"\n",
       "\n",
       "* Candidate solution (result #1)\n",
       "  Primal status      : FEASIBLE_POINT\n",
       "  Dual status        : FEASIBLE_POINT\n",
       "  Objective value    : 1.58153e+01\n",
       "  Objective bound    : 1.58153e+01\n",
       "  Dual objective value : 1.58153e+01\n",
       "\n",
       "* Work counters\n",
       "  Solve time (sec)   : 2.28882e-04\n",
       "  Barrier iterations : 0\n",
       "  Node count         : 0\n"
      ]
     },
     "metadata": {},
     "output_type": "display_data"
    }
   ],
   "source": [
    "model2 = Model(Gurobi.Optimizer)\n",
    "\n",
    "@variable(model2, x[all_src, all_dst] >= 0);\n",
    "\n",
    "@objective(model2, Min, sum(sum(L[ii, jj] * x[ii, jj] for ii in all_src) for jj in all_dst));\n",
    "\n",
    "# Each destination must be served by at least one source.\n",
    "@constraint(model2, demand[jj in all_dst], sum(x[ii, jj] for ii in all_src) >= 1);\n",
    "\n",
    "# There is one robot for each destination.\n",
    "@constraint(model2, nrobots, sum(sum(x[ii, jj] for ii in all_src) for jj in all_dst) == n_dst);\n",
    "\n",
    "# Each robot must start from its assigned source.\n",
    "@constraint(model2, start[ii in all_src], sum(x[ii, jj] for jj in all_dst) == S[ii]);\n",
    "\n",
    "# Solve.\n",
    "optimize!(model2);\n",
    "solution_summary(model2)"
   ]
  },
  {
   "cell_type": "code",
   "execution_count": 11,
   "id": "8ac455a0",
   "metadata": {},
   "outputs": [
    {
     "data": {
      "text/plain": [
       "3×9 Matrix{Float64}:\n",
       " 1.0  0.0  0.0  1.0  1.0  0.0  0.0  1.0  1.0\n",
       " 0.0  0.0  1.0  0.0  0.0  0.0  0.0  0.0  0.0\n",
       " 0.0  1.0  0.0  0.0  0.0  1.0  1.0  0.0  0.0"
      ]
     },
     "metadata": {},
     "output_type": "display_data"
    }
   ],
   "source": [
    "# Save solution.\n",
    "x2 = Array(value.(x));\n",
    "npzwrite(\"sols/problem2_dist.npz\", Dict(\"x\" => x2, \"objective\" => objective_value(model2)));\n",
    "\n",
    "x2"
   ]
  }
 ],
 "metadata": {
  "kernelspec": {
   "display_name": "Julia 1.9.2",
   "language": "julia",
   "name": "julia-1.9"
  },
  "language_info": {
   "file_extension": ".jl",
   "mimetype": "application/julia",
   "name": "julia",
   "version": "1.9.2"
  }
 },
 "nbformat": 4,
 "nbformat_minor": 5
}
